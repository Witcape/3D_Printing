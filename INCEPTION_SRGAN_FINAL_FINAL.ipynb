{
  "nbformat": 4,
  "nbformat_minor": 0,
  "metadata": {
    "colab": {
      "provenance": [],
      "gpuType": "T4",
      "authorship_tag": "ABX9TyPKsCgtyuMwjmNARbxeZcCt",
      "include_colab_link": true
    },
    "kernelspec": {
      "name": "python3",
      "display_name": "Python 3"
    },
    "language_info": {
      "name": "python"
    },
    "accelerator": "GPU"
  },
  "cells": [
    {
      "cell_type": "markdown",
      "metadata": {
        "id": "view-in-github",
        "colab_type": "text"
      },
      "source": [
        "<a href=\"https://colab.research.google.com/github/Witcape/3D_Printing/blob/main/INCEPTION_SRGAN_FINAL_FINAL.ipynb\" target=\"_parent\"><img src=\"https://colab.research.google.com/assets/colab-badge.svg\" alt=\"Open In Colab\"/></a>"
      ]
    },
    {
      "cell_type": "code",
      "source": [
        "import tensorflow as tf\n",
        "from tensorflow.keras.preprocessing.image import ImageDataGenerator\n",
        "from tensorflow.keras.applications import InceptionV3\n",
        "from tensorflow.keras.models import Model\n",
        "from tensorflow.keras.layers import Dense, GlobalAveragePooling2D\n",
        "from tensorflow.keras.optimizers import Adam\n",
        "from sklearn.model_selection import train_test_split\n",
        "import os"
      ],
      "metadata": {
        "id": "oA-KpRZnCCun"
      },
      "execution_count": 1,
      "outputs": []
    },
    {
      "cell_type": "code",
      "source": [
        "from google.colab import drive\n",
        "drive.mount('/content/drive')"
      ],
      "metadata": {
        "id": "N12Bnm4VC1Af"
      },
      "execution_count": null,
      "outputs": []
    },
    {
      "cell_type": "code",
      "execution_count": null,
      "metadata": {
        "id": "ForJKm3DB6_K"
      },
      "outputs": [],
      "source": [
        "train_dir = \"/content/drive/MyDrive/Final_Final/Train\"\n",
        "test_dir = \"/content/drive/MyDrive/Final_Final/Test\"\n",
        "\n",
        "# List all image paths and corresponding labels\n",
        "image_paths = []\n",
        "labels = []\n",
        "\n",
        "for class_dir in os.listdir(train_dir):\n",
        "    class_path = os.path.join(train_dir, class_dir)\n",
        "\n",
        "    if not os.path.isdir(class_path):\n",
        "        continue\n",
        "\n",
        "    for img in os.listdir(class_path):\n",
        "        image_paths.append(os.path.join(class_path, img))\n",
        "        labels.append(class_dir)  # Use the directory name as the label\n",
        "\n",
        "# Split into train and validation\n",
        "train_paths, val_paths, train_labels, val_labels = train_test_split(\n",
        "    image_paths, labels, test_size=0.2, stratify=labels, random_state=42\n",
        ")\n"
      ]
    },
    {
      "cell_type": "code",
      "source": [
        "unique_labels = set(labels)\n",
        "unique_labels\n",
        "import pandas as pd"
      ],
      "metadata": {
        "id": "z-JeqvlXDYmI"
      },
      "execution_count": null,
      "outputs": []
    },
    {
      "cell_type": "code",
      "source": [
        "train_datagen = ImageDataGenerator(\n",
        "    rescale=1.0/255,\n",
        "    rotation_range=20,\n",
        "    width_shift_range=0.2,\n",
        "    height_shift_range=0.2,\n",
        "    shear_range=0.2,\n",
        "    zoom_range=0.2,\n",
        "    horizontal_flip=True\n",
        ")\n",
        "# Create DataFrame for training data\n",
        "train_df = pd.DataFrame({\n",
        "    \"filepath\": train_paths,\n",
        "    \"class\": train_labels\n",
        "})\n",
        "\n",
        "# Create DataFrame for validation data\n",
        "val_df = pd.DataFrame({\n",
        "    \"filepath\": val_paths,\n",
        "    \"class\": val_labels\n",
        "})\n",
        "\n",
        "\n",
        "\n",
        "val_datagen = ImageDataGenerator(rescale=1.0/255)\n",
        "\n",
        "train_generator = train_datagen.flow_from_dataframe(\n",
        "    dataframe=train_df,\n",
        "    x_col=\"filepath\",\n",
        "    y_col=\"class\",\n",
        "    target_size=(299, 299),  # Image size for InceptionV3\n",
        "    batch_size=32,\n",
        "    class_mode='categorical'\n",
        ")\n",
        "\n",
        "val_generator = val_datagen.flow_from_dataframe(\n",
        "    dataframe=val_df,\n",
        "    x_col=\"filepath\",\n",
        "    y_col=\"class\",\n",
        "    target_size=(299, 299),\n",
        "    batch_size=32,\n",
        "    class_mode='categorical'\n",
        ")"
      ],
      "metadata": {
        "id": "4ylJ3HKNCCM-"
      },
      "execution_count": null,
      "outputs": []
    },
    {
      "cell_type": "code",
      "source": [
        "base_model = InceptionV3(weights='imagenet', include_top=False, input_shape=(299, 299, 3))"
      ],
      "metadata": {
        "id": "FdrxJfiSCCPA"
      },
      "execution_count": null,
      "outputs": []
    },
    {
      "cell_type": "code",
      "source": [
        "x = base_model.output\n",
        "x = GlobalAveragePooling2D()(x)  # Global average pooling\n",
        "x = Dense(1024, activation='relu')(x)  # Fully connected layer\n",
        "predictions = Dense(len(train_generator.class_indices), activation='softmax')(x)  # Output layer\n",
        "\n",
        "model = Model(inputs=base_model.input, outputs=predictions)"
      ],
      "metadata": {
        "id": "sJe9abNWCCRn"
      },
      "execution_count": null,
      "outputs": []
    },
    {
      "cell_type": "code",
      "source": [
        "for layer in base_model.layers:\n",
        "    layer.trainable = False"
      ],
      "metadata": {
        "id": "podAB0L9CCW1"
      },
      "execution_count": null,
      "outputs": []
    },
    {
      "cell_type": "code",
      "source": [
        "model.compile(optimizer=Adam(learning_rate=0.001),\n",
        "              loss='categorical_crossentropy',\n",
        "              metrics=['accuracy'])"
      ],
      "metadata": {
        "id": "64mY2tbxCCZb"
      },
      "execution_count": null,
      "outputs": []
    },
    {
      "cell_type": "code",
      "source": [
        "history_fine = model.fit(\n",
        "    train_generator,\n",
        "    epochs=10,\n",
        "    validation_data=val_generator\n",
        ")"
      ],
      "metadata": {
        "colab": {
          "base_uri": "https://localhost:8080/"
        },
        "id": "Pe3NW1pcCCcG",
        "outputId": "75d20b86-36c0-4c30-cec4-6774b795be3b"
      },
      "execution_count": 10,
      "outputs": [
        {
          "metadata": {
            "tags": null
          },
          "name": "stdout",
          "output_type": "stream",
          "text": [
            "Epoch 1/10\n"
          ]
        },
        {
          "metadata": {
            "tags": null
          },
          "name": "stderr",
          "output_type": "stream",
          "text": [
            "/usr/local/lib/python3.10/dist-packages/keras/src/trainers/data_adapters/py_dataset_adapter.py:122: UserWarning: Your `PyDataset` class should call `super().__init__(**kwargs)` in its constructor. `**kwargs` can include `workers`, `use_multiprocessing`, `max_queue_size`. Do not pass these arguments to `fit()`, as they will be ignored.\n",
            "  self._warn_if_super_not_called()\n"
          ]
        },
        {
          "output_type": "stream",
          "name": "stdout",
          "text": [
            "\u001b[1m22/22\u001b[0m \u001b[32m━━━━━━━━━━━━━━━━━━━━\u001b[0m\u001b[37m\u001b[0m \u001b[1m212s\u001b[0m 7s/step - accuracy: 0.4421 - loss: 2.6228 - val_accuracy: 0.8161 - val_loss: 0.5938\n",
            "Epoch 2/10\n",
            "\u001b[1m22/22\u001b[0m \u001b[32m━━━━━━━━━━━━━━━━━━━━\u001b[0m\u001b[37m\u001b[0m \u001b[1m75s\u001b[0m 590ms/step - accuracy: 0.7847 - loss: 0.5632 - val_accuracy: 0.8046 - val_loss: 0.5355\n",
            "Epoch 3/10\n",
            "\u001b[1m22/22\u001b[0m \u001b[32m━━━━━━━━━━━━━━━━━━━━\u001b[0m\u001b[37m\u001b[0m \u001b[1m18s\u001b[0m 611ms/step - accuracy: 0.8389 - loss: 0.4519 - val_accuracy: 0.8218 - val_loss: 0.4787\n",
            "Epoch 4/10\n",
            "\u001b[1m22/22\u001b[0m \u001b[32m━━━━━━━━━━━━━━━━━━━━\u001b[0m\u001b[37m\u001b[0m \u001b[1m21s\u001b[0m 723ms/step - accuracy: 0.8808 - loss: 0.3160 - val_accuracy: 0.8506 - val_loss: 0.4041\n",
            "Epoch 5/10\n",
            "\u001b[1m22/22\u001b[0m \u001b[32m━━━━━━━━━━━━━━━━━━━━\u001b[0m\u001b[37m\u001b[0m \u001b[1m18s\u001b[0m 611ms/step - accuracy: 0.8848 - loss: 0.3030 - val_accuracy: 0.8218 - val_loss: 0.4214\n",
            "Epoch 6/10\n",
            "\u001b[1m22/22\u001b[0m \u001b[32m━━━━━━━━━━━━━━━━━━━━\u001b[0m\u001b[37m\u001b[0m \u001b[1m22s\u001b[0m 616ms/step - accuracy: 0.8976 - loss: 0.2914 - val_accuracy: 0.8333 - val_loss: 0.4961\n",
            "Epoch 7/10\n",
            "\u001b[1m22/22\u001b[0m \u001b[32m━━━━━━━━━━━━━━━━━━━━\u001b[0m\u001b[37m\u001b[0m \u001b[1m18s\u001b[0m 607ms/step - accuracy: 0.9125 - loss: 0.2297 - val_accuracy: 0.8506 - val_loss: 0.3436\n",
            "Epoch 8/10\n",
            "\u001b[1m22/22\u001b[0m \u001b[32m━━━━━━━━━━━━━━━━━━━━\u001b[0m\u001b[37m\u001b[0m \u001b[1m18s\u001b[0m 615ms/step - accuracy: 0.9096 - loss: 0.2361 - val_accuracy: 0.8563 - val_loss: 0.3309\n",
            "Epoch 9/10\n",
            "\u001b[1m22/22\u001b[0m \u001b[32m━━━━━━━━━━━━━━━━━━━━\u001b[0m\u001b[37m\u001b[0m \u001b[1m21s\u001b[0m 616ms/step - accuracy: 0.9209 - loss: 0.2498 - val_accuracy: 0.8506 - val_loss: 0.3533\n",
            "Epoch 10/10\n",
            "\u001b[1m22/22\u001b[0m \u001b[32m━━━━━━━━━━━━━━━━━━━━\u001b[0m\u001b[37m\u001b[0m \u001b[1m18s\u001b[0m 617ms/step - accuracy: 0.8932 - loss: 0.2319 - val_accuracy: 0.8448 - val_loss: 0.3449\n"
          ]
        }
      ]
    },
    {
      "cell_type": "code",
      "source": [
        "for layer in base_model.layers[-50:]:\n",
        "    layer.trainable = True"
      ],
      "metadata": {
        "id": "uBRILc-ECCeZ"
      },
      "execution_count": 11,
      "outputs": []
    },
    {
      "cell_type": "code",
      "source": [
        "model.compile(optimizer=Adam(learning_rate=0.0001),\n",
        "              loss='categorical_crossentropy',\n",
        "              metrics=['accuracy'])"
      ],
      "metadata": {
        "id": "Ay9hfwGoCChG"
      },
      "execution_count": 12,
      "outputs": []
    },
    {
      "cell_type": "code",
      "source": [
        "history_fine = model.fit(\n",
        "    train_generator,\n",
        "    epochs=10,\n",
        "    validation_data=val_generator\n",
        ")"
      ],
      "metadata": {
        "colab": {
          "base_uri": "https://localhost:8080/"
        },
        "id": "ek28UqSACCjm",
        "outputId": "b0a74eb4-b247-4ec9-d012-8e7e48f1aa5e"
      },
      "execution_count": 13,
      "outputs": [
        {
          "output_type": "stream",
          "name": "stdout",
          "text": [
            "Epoch 1/10\n",
            "\u001b[1m22/22\u001b[0m \u001b[32m━━━━━━━━━━━━━━━━━━━━\u001b[0m\u001b[37m\u001b[0m \u001b[1m60s\u001b[0m 2s/step - accuracy: 0.8325 - loss: 0.3669 - val_accuracy: 0.8506 - val_loss: 0.3603\n",
            "Epoch 2/10\n",
            "\u001b[1m22/22\u001b[0m \u001b[32m━━━━━━━━━━━━━━━━━━━━\u001b[0m\u001b[37m\u001b[0m \u001b[1m20s\u001b[0m 652ms/step - accuracy: 0.9577 - loss: 0.1220 - val_accuracy: 0.8736 - val_loss: 0.2698\n",
            "Epoch 3/10\n",
            "\u001b[1m22/22\u001b[0m \u001b[32m━━━━━━━━━━━━━━━━━━━━\u001b[0m\u001b[37m\u001b[0m \u001b[1m19s\u001b[0m 619ms/step - accuracy: 0.9805 - loss: 0.0641 - val_accuracy: 0.8793 - val_loss: 0.2461\n",
            "Epoch 4/10\n",
            "\u001b[1m22/22\u001b[0m \u001b[32m━━━━━━━━━━━━━━━━━━━━\u001b[0m\u001b[37m\u001b[0m \u001b[1m22s\u001b[0m 672ms/step - accuracy: 0.9910 - loss: 0.0495 - val_accuracy: 0.8851 - val_loss: 0.2229\n",
            "Epoch 5/10\n",
            "\u001b[1m22/22\u001b[0m \u001b[32m━━━━━━━━━━━━━━━━━━━━\u001b[0m\u001b[37m\u001b[0m \u001b[1m19s\u001b[0m 626ms/step - accuracy: 0.9930 - loss: 0.0319 - val_accuracy: 0.8793 - val_loss: 0.2456\n",
            "Epoch 6/10\n",
            "\u001b[1m22/22\u001b[0m \u001b[32m━━━━━━━━━━━━━━━━━━━━\u001b[0m\u001b[37m\u001b[0m \u001b[1m18s\u001b[0m 627ms/step - accuracy: 0.9850 - loss: 0.0424 - val_accuracy: 0.9195 - val_loss: 0.1987\n",
            "Epoch 7/10\n",
            "\u001b[1m22/22\u001b[0m \u001b[32m━━━━━━━━━━━━━━━━━━━━\u001b[0m\u001b[37m\u001b[0m \u001b[1m20s\u001b[0m 640ms/step - accuracy: 0.9932 - loss: 0.0280 - val_accuracy: 0.9425 - val_loss: 0.1611\n",
            "Epoch 8/10\n",
            "\u001b[1m22/22\u001b[0m \u001b[32m━━━━━━━━━━━━━━━━━━━━\u001b[0m\u001b[37m\u001b[0m \u001b[1m19s\u001b[0m 622ms/step - accuracy: 0.9946 - loss: 0.0265 - val_accuracy: 0.9368 - val_loss: 0.1739\n",
            "Epoch 9/10\n",
            "\u001b[1m22/22\u001b[0m \u001b[32m━━━━━━━━━━━━━━━━━━━━\u001b[0m\u001b[37m\u001b[0m \u001b[1m20s\u001b[0m 634ms/step - accuracy: 0.9951 - loss: 0.0172 - val_accuracy: 0.9598 - val_loss: 0.1479\n",
            "Epoch 10/10\n",
            "\u001b[1m22/22\u001b[0m \u001b[32m━━━━━━━━━━━━━━━━━━━━\u001b[0m\u001b[37m\u001b[0m \u001b[1m18s\u001b[0m 611ms/step - accuracy: 0.9920 - loss: 0.0189 - val_accuracy: 0.9080 - val_loss: 0.1952\n"
          ]
        }
      ]
    },
    {
      "cell_type": "code",
      "source": [
        "test_datagen = ImageDataGenerator(rescale=1.0/255)\n",
        "test_generator = test_datagen.flow_from_directory(\n",
        "    test_dir,\n",
        "    target_size=(299, 299),\n",
        "    batch_size=32,\n",
        "    class_mode='categorical',\n",
        "    shuffle=False\n",
        ")"
      ],
      "metadata": {
        "id": "e3N42UhVChcp"
      },
      "execution_count": null,
      "outputs": []
    },
    {
      "cell_type": "code",
      "source": [
        "test_loss, test_acc = model.evaluate(test_generator)\n",
        "print(f\"Test Accuracy: {test_acc:.4f}\")"
      ],
      "metadata": {
        "colab": {
          "base_uri": "https://localhost:8080/"
        },
        "id": "gSoWcGC2glSm",
        "outputId": "2fea2c6b-779f-4f03-810f-5098f2dbd97a"
      },
      "execution_count": 15,
      "outputs": [
        {
          "output_type": "stream",
          "name": "stdout",
          "text": [
            "\u001b[1m13/13\u001b[0m \u001b[32m━━━━━━━━━━━━━━━━━━━━\u001b[0m\u001b[37m\u001b[0m \u001b[1m128s\u001b[0m 11s/step - accuracy: 0.8854 - loss: 0.3664\n",
            "Test Accuracy: 0.8682\n"
          ]
        }
      ]
    },
    {
      "cell_type": "code",
      "source": [
        "import numpy as np\n",
        "import matplotlib.pyplot as plt\n",
        "from sklearn.metrics import confusion_matrix, ConfusionMatrixDisplay\n",
        "\n",
        "true_labels = test_generator.classes  # These are the true labels\n",
        "class_labels = list(test_generator.class_indices.keys())  # Class names\n",
        "\n",
        "pred_probabilities = model.predict(test_generator)\n",
        "\n",
        "predicted_labels = np.argmax(pred_probabilities, axis=1)\n",
        "\n",
        "cm = confusion_matrix(true_labels, predicted_labels)\n",
        "disp = ConfusionMatrixDisplay(confusion_matrix=cm, display_labels=class_labels)\n",
        "\n",
        "plt.figure(figsize=(10, 8))\n",
        "disp.plot(cmap='Blues', xticks_rotation='vertical', ax=plt.gca())\n",
        "plt.title('Confusion Matrix')\n",
        "plt.show()\n"
      ],
      "metadata": {
        "id": "OjgHj7VNEF9I",
        "colab": {
          "base_uri": "https://localhost:8080/",
          "height": 789
        },
        "outputId": "f7282ab2-906d-4bf6-b78e-a5183bc975f7"
      },
      "execution_count": 16,
      "outputs": [
        {
          "output_type": "stream",
          "name": "stdout",
          "text": [
            "\u001b[1m13/13\u001b[0m \u001b[32m━━━━━━━━━━━━━━━━━━━━\u001b[0m\u001b[37m\u001b[0m \u001b[1m15s\u001b[0m 765ms/step\n"
          ]
        },
        {
          "output_type": "display_data",
          "data": {
            "text/plain": [
              "<Figure size 1000x800 with 2 Axes>"
            ],
            "image/png": "[encoded data removed]"
          },
          "metadata": {}
        }
      ]
    },
    {
      "cell_type": "code",
      "source": [],
      "metadata": {
        "id": "oqJHY-fLg4cj"
      },
      "execution_count": null,
      "outputs": []
    }
  ]
}