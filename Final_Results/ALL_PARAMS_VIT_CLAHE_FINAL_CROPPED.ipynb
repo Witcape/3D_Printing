{
  "cells": [
    {
      "cell_type": "markdown",
      "metadata": {
        "id": "view-in-github",
        "colab_type": "text"
      },
      "source": [
        "<a href=\"https://colab.research.google.com/github/Witcape/3D_Printing/blob/main/Final_Results/ALL_PARAMS_VIT_CLAHE_FINAL_CROPPED.ipynb\" target=\"_parent\"><img src=\"https://colab.research.google.com/assets/colab-badge.svg\" alt=\"Open In Colab\"/></a>"
      ]
    },
    {
      "cell_type": "code",
      "source": [
        "!git clone https://github.com/AarohiSingla/Image-Classification-Using-Vision-transformer\n",
        "%cd Image-Classification-Using-Vision-transformer"
      ],
      "metadata": {
        "colab": {
          "base_uri": "https://localhost:8080/"
        },
        "id": "IUApWdZAein8",
        "outputId": "2bae3655-ef20-4f05-9ff7-f00b0ca179c3"
      },
      "id": "IUApWdZAein8",
      "execution_count": 1,
      "outputs": [
        {
          "output_type": "stream",
          "name": "stdout",
          "text": [
            "fatal: destination path 'Image-Classification-Using-Vision-transformer' already exists and is not an empty directory.\n",
            "/content/Image-Classification-Using-Vision-transformer\n"
          ]
        }
      ]
    },
    {
      "cell_type": "code",
      "execution_count": 2,
      "id": "1fb1c10e",
      "metadata": {
        "colab": {
          "base_uri": "https://localhost:8080/"
        },
        "id": "1fb1c10e",
        "outputId": "6592a87c-7d3d-4c6f-da86-097c874c5883"
      },
      "outputs": [
        {
          "output_type": "stream",
          "name": "stdout",
          "text": [
            "Drive already mounted at /content/drive; to attempt to forcibly remount, call drive.mount(\"/content/drive\", force_remount=True).\n"
          ]
        }
      ],
      "source": [
        "import matplotlib.pyplot as plt\n",
        "import torch\n",
        "import torchvision\n",
        "\n",
        "from torch import nn\n",
        "from torchvision import transforms\n",
        "from helper_functions import set_seeds\n",
        "from google.colab import drive\n",
        "drive.mount('/content/drive')"
      ]
    },
    {
      "cell_type": "code",
      "execution_count": 3,
      "id": "12e97c71",
      "metadata": {
        "colab": {
          "base_uri": "https://localhost:8080/",
          "height": 35
        },
        "id": "12e97c71",
        "outputId": "2d4bd083-f8bd-4bd8-dc37-48bb9b7bab34"
      },
      "outputs": [
        {
          "output_type": "execute_result",
          "data": {
            "text/plain": [
              "'cuda'"
            ],
            "application/vnd.google.colaboratory.intrinsic+json": {
              "type": "string"
            }
          },
          "metadata": {},
          "execution_count": 3
        }
      ],
      "source": [
        "device = \"cuda\" if torch.cuda.is_available() else \"cpu\"\n",
        "device"
      ]
    },
    {
      "cell_type": "code",
      "execution_count": 4,
      "id": "0de25b1a",
      "metadata": {
        "id": "0de25b1a"
      },
      "outputs": [],
      "source": [
        "# 1. Get pretrained weights for ViT-Base\n",
        "pretrained_vit_weights = torchvision.models.ViT_B_16_Weights.DEFAULT\n",
        "\n",
        "# 2. Setup a ViT model instance with pretrained weights\n",
        "pretrained_vit = torchvision.models.vit_b_16(weights=pretrained_vit_weights).to(device)\n",
        "\n",
        "# 3. Freeze the base parameters\n",
        "for parameter in pretrained_vit.parameters():\n",
        "    parameter.requires_grad = False\n",
        "\n",
        "# 4. Change the classifier head\n",
        "class_names = ['Normal','Spaghetti','Stringing']\n",
        "\n",
        "set_seeds()\n",
        "pretrained_vit.heads = nn.Linear(in_features=768, out_features=len(class_names)).to(device)\n",
        "# pretrained_vit # uncomment for model output"
      ]
    },
    {
      "cell_type": "code",
      "execution_count": 5,
      "id": "e3feaa42",
      "metadata": {
        "colab": {
          "base_uri": "https://localhost:8080/"
        },
        "id": "e3feaa42",
        "outputId": "cec679ba-3ffe-4d4d-c365-947452fe073b"
      },
      "outputs": [
        {
          "output_type": "stream",
          "name": "stdout",
          "text": [
            "Requirement already satisfied: torchinfo in /usr/local/lib/python3.10/dist-packages (1.8.0)\n"
          ]
        },
        {
          "output_type": "execute_result",
          "data": {
            "text/plain": [
              "============================================================================================================================================\n",
              "Layer (type (var_name))                                      Input Shape          Output Shape         Param #              Trainable\n",
              "============================================================================================================================================\n",
              "VisionTransformer (VisionTransformer)                        [32, 3, 224, 224]    [32, 3]              768                  Partial\n",
              "├─Conv2d (conv_proj)                                         [32, 3, 224, 224]    [32, 768, 14, 14]    (590,592)            False\n",
              "├─Encoder (encoder)                                          [32, 197, 768]       [32, 197, 768]       151,296              False\n",
              "│    └─Dropout (dropout)                                     [32, 197, 768]       [32, 197, 768]       --                   --\n",
              "│    └─Sequential (layers)                                   [32, 197, 768]       [32, 197, 768]       --                   False\n",
              "│    │    └─EncoderBlock (encoder_layer_0)                   [32, 197, 768]       [32, 197, 768]       (7,087,872)          False\n",
              "│    │    └─EncoderBlock (encoder_layer_1)                   [32, 197, 768]       [32, 197, 768]       (7,087,872)          False\n",
              "│    │    └─EncoderBlock (encoder_layer_2)                   [32, 197, 768]       [32, 197, 768]       (7,087,872)          False\n",
              "│    │    └─EncoderBlock (encoder_layer_3)                   [32, 197, 768]       [32, 197, 768]       (7,087,872)          False\n",
              "│    │    └─EncoderBlock (encoder_layer_4)                   [32, 197, 768]       [32, 197, 768]       (7,087,872)          False\n",
              "│    │    └─EncoderBlock (encoder_layer_5)                   [32, 197, 768]       [32, 197, 768]       (7,087,872)          False\n",
              "│    │    └─EncoderBlock (encoder_layer_6)                   [32, 197, 768]       [32, 197, 768]       (7,087,872)          False\n",
              "│    │    └─EncoderBlock (encoder_layer_7)                   [32, 197, 768]       [32, 197, 768]       (7,087,872)          False\n",
              "│    │    └─EncoderBlock (encoder_layer_8)                   [32, 197, 768]       [32, 197, 768]       (7,087,872)          False\n",
              "│    │    └─EncoderBlock (encoder_layer_9)                   [32, 197, 768]       [32, 197, 768]       (7,087,872)          False\n",
              "│    │    └─EncoderBlock (encoder_layer_10)                  [32, 197, 768]       [32, 197, 768]       (7,087,872)          False\n",
              "│    │    └─EncoderBlock (encoder_layer_11)                  [32, 197, 768]       [32, 197, 768]       (7,087,872)          False\n",
              "│    └─LayerNorm (ln)                                        [32, 197, 768]       [32, 197, 768]       (1,536)              False\n",
              "├─Linear (heads)                                             [32, 768]            [32, 3]              2,307                True\n",
              "============================================================================================================================================\n",
              "Total params: 85,800,963\n",
              "Trainable params: 2,307\n",
              "Non-trainable params: 85,798,656\n",
              "Total mult-adds (G): 5.52\n",
              "============================================================================================================================================\n",
              "Input size (MB): 19.27\n",
              "Forward/backward pass size (MB): 3330.74\n",
              "Params size (MB): 229.20\n",
              "Estimated Total Size (MB): 3579.21\n",
              "============================================================================================================================================"
            ]
          },
          "metadata": {},
          "execution_count": 5
        }
      ],
      "source": [
        "!pip install torchinfo\n",
        "from torchinfo import summary\n",
        "\n",
        "# Print a summary using torchinfo (uncomment for actual output)\n",
        "summary(model=pretrained_vit,\n",
        "        input_size=(32, 3, 224, 224), # (batch_size, color_channels, height, width)\n",
        "        # col_names=[\"input_size\"], # uncomment for smaller output\n",
        "        col_names=[\"input_size\", \"output_size\", \"num_params\", \"trainable\"],\n",
        "        col_width=20,\n",
        "        row_settings=[\"var_names\"]\n",
        ")"
      ]
    },
    {
      "cell_type": "markdown",
      "id": "c73ec300",
      "metadata": {
        "id": "c73ec300"
      },
      "source": [
        "#### Notice how only the output layer is trainable, where as, all of the rest of the layers are untrainable (frozen)."
      ]
    },
    {
      "cell_type": "code",
      "execution_count": 6,
      "id": "ac8cc699",
      "metadata": {
        "id": "ac8cc699"
      },
      "outputs": [],
      "source": [
        "# Setup directory paths to train and test images\n",
        "train_dir = '/content/drive/MyDrive/Final_Cropped/Train'\n",
        "test_dir = '/content/drive/MyDrive/Final_Cropped/Test'"
      ]
    },
    {
      "cell_type": "code",
      "source": [
        "# from google.colab import drive\n",
        "# drive.mount('/content/drive')"
      ],
      "metadata": {
        "id": "jHZxIAGqcilu"
      },
      "id": "jHZxIAGqcilu",
      "execution_count": 7,
      "outputs": []
    },
    {
      "cell_type": "markdown",
      "id": "91175306",
      "metadata": {
        "id": "91175306"
      },
      "source": [
        "Remember, if you're going to use a pretrained model, it's generally important to ensure your own custom data is transformed/formatted in the same way the data the original model was trained on."
      ]
    },
    {
      "cell_type": "code",
      "execution_count": 8,
      "id": "05aa777b",
      "metadata": {
        "colab": {
          "base_uri": "https://localhost:8080/"
        },
        "id": "05aa777b",
        "outputId": "986f7636-3078-4f9e-863c-35ba3784e215"
      },
      "outputs": [
        {
          "output_type": "stream",
          "name": "stdout",
          "text": [
            "ImageClassification(\n",
            "    crop_size=[224]\n",
            "    resize_size=[256]\n",
            "    mean=[0.485, 0.456, 0.406]\n",
            "    std=[0.229, 0.224, 0.225]\n",
            "    interpolation=InterpolationMode.BILINEAR\n",
            ")\n"
          ]
        }
      ],
      "source": [
        "# Get automatic transforms from pretrained ViT weights\n",
        "pretrained_vit_transforms = pretrained_vit_weights.transforms()\n",
        "print(pretrained_vit_transforms)"
      ]
    },
    {
      "cell_type": "markdown",
      "id": "088971e6",
      "metadata": {
        "id": "088971e6"
      },
      "source": [
        "## And now we've got transforms ready, we can turn our images into DataLoaders using the create_dataloaders()"
      ]
    },
    {
      "cell_type": "code",
      "execution_count": 9,
      "id": "5d49225b",
      "metadata": {
        "id": "5d49225b"
      },
      "outputs": [],
      "source": [
        "import os\n",
        "\n",
        "from torchvision import datasets, transforms\n",
        "from torch.utils.data import DataLoader\n",
        "\n",
        "NUM_WORKERS = os.cpu_count()\n",
        "\n",
        "def create_dataloaders(\n",
        "    train_dir: str,\n",
        "    test_dir: str,\n",
        "    transform: transforms.Compose,\n",
        "    batch_size: int,\n",
        "    num_workers: int=NUM_WORKERS\n",
        "):\n",
        "\n",
        "  # Use ImageFolder to create dataset(s)\n",
        "  train_data = datasets.ImageFolder(train_dir, transform=transform)\n",
        "  test_data = datasets.ImageFolder(test_dir, transform=transform)\n",
        "\n",
        "  # Get class names\n",
        "  class_names = train_data.classes\n",
        "\n",
        "  # Turn images into data loaders\n",
        "  train_dataloader = DataLoader(\n",
        "      train_data,\n",
        "      batch_size=batch_size,\n",
        "      shuffle=True,\n",
        "      num_workers=num_workers,\n",
        "      pin_memory=True,\n",
        "  )\n",
        "  test_dataloader = DataLoader(\n",
        "      test_data,\n",
        "      batch_size=batch_size,\n",
        "      shuffle=False,\n",
        "      num_workers=num_workers,\n",
        "      pin_memory=True,\n",
        "  )\n",
        "\n",
        "  return train_dataloader, test_dataloader, class_names"
      ]
    },
    {
      "cell_type": "code",
      "execution_count": 10,
      "id": "9037c8a5",
      "metadata": {
        "id": "9037c8a5"
      },
      "outputs": [],
      "source": [
        "# Setup dataloaders\n",
        "train_dataloader_pretrained, test_dataloader_pretrained, class_names = create_dataloaders(train_dir=train_dir,\n",
        "                                                                                                     test_dir=test_dir,\n",
        "                                                                                                     transform=pretrained_vit_transforms,\n",
        "                                                                                                     batch_size=32) # Could increase if we had more samples, such as here: https://arxiv.org/abs/2205.01580 (there are other improvements there too...)\n"
      ]
    },
    {
      "cell_type": "code",
      "execution_count": 11,
      "id": "10c5ba74",
      "metadata": {
        "colab": {
          "base_uri": "https://localhost:8080/",
          "height": 223,
          "referenced_widgets": [
            "d1b73893d3a4474e8c4b56232d9f81da",
            "79bcd64359f74174a1b19c08243d169f",
            "0111de9c85de46ee97821962c5716f5d",
            "b271a1b7fb824d97afbb856300b1ad19",
            "7946bebff97e4a63b97ece63d88138aa",
            "0f2aafecfef5470a89ef9d3258e77952",
            "4e9e0890fd8b4cf6b37909870ee89b22",
            "a824756ab36540f5b610c5b72df92c2a",
            "357016c3b2c540bface14ebdb89b1e04",
            "af61265a2a214f9a936d5b026063c39b",
            "f0f3e72945df477aa479a2a6ae75e563"
          ]
        },
        "id": "10c5ba74",
        "outputId": "17f09424-d2ea-4d71-e32e-3aedd5214510"
      },
      "outputs": [
        {
          "data": {
            "application/vnd.jupyter.widget-view+json": {
              "model_id": "d1b73893d3a4474e8c4b56232d9f81da",
              "version_major": 2,
              "version_minor": 0
            },
            "text/plain": [
              "  0%|          | 0/10 [00:00<?, ?it/s]"
            ]
          },
          "metadata": {},
          "output_type": "display_data"
        },
        {
          "output_type": "stream",
          "name": "stdout",
          "text": [
            "Epoch: 1 | train_loss: 0.6025 | train_acc: 0.7721 | test_loss: 0.2656 | test_acc: 0.9609\n",
            "Epoch: 2 | train_loss: 0.2985 | train_acc: 0.8971 | test_loss: 0.1740 | test_acc: 0.9531\n",
            "Epoch: 3 | train_loss: 0.1992 | train_acc: 0.9421 | test_loss: 0.1548 | test_acc: 0.9531\n",
            "Epoch: 4 | train_loss: 0.1670 | train_acc: 0.9504 | test_loss: 0.1414 | test_acc: 0.9531\n",
            "Epoch: 5 | train_loss: 0.1425 | train_acc: 0.9605 | test_loss: 0.1350 | test_acc: 0.9609\n",
            "Epoch: 6 | train_loss: 0.1381 | train_acc: 0.9678 | test_loss: 0.1262 | test_acc: 0.9609\n",
            "Epoch: 7 | train_loss: 0.1180 | train_acc: 0.9669 | test_loss: 0.1200 | test_acc: 0.9688\n",
            "Epoch: 8 | train_loss: 0.1026 | train_acc: 0.9761 | test_loss: 0.1137 | test_acc: 0.9688\n",
            "Epoch: 9 | train_loss: 0.0933 | train_acc: 0.9789 | test_loss: 0.1101 | test_acc: 0.9688\n",
            "Epoch: 10 | train_loss: 0.0833 | train_acc: 0.9835 | test_loss: 0.1135 | test_acc: 0.9688\n"
          ]
        }
      ],
      "source": [
        "from going_modular.going_modular import engine\n",
        "\n",
        "# Create optimizer and loss function\n",
        "optimizer = torch.optim.Adam(params=pretrained_vit.parameters(),\n",
        "                             lr=1e-3)\n",
        "loss_fn = torch.nn.CrossEntropyLoss()\n",
        "\n",
        "# Train the classifier head of the pretrained ViT feature extractor model\n",
        "set_seeds()\n",
        "pretrained_vit_results = engine.train(model=pretrained_vit,\n",
        "                                      train_dataloader=train_dataloader_pretrained,\n",
        "                                      test_dataloader=test_dataloader_pretrained,\n",
        "                                      optimizer=optimizer,\n",
        "                                      loss_fn=loss_fn,\n",
        "                                      epochs=10,\n",
        "                                      device=device)"
      ]
    },
    {
      "cell_type": "code",
      "source": [
        "# From DataLoader (dynamic computation)\n",
        "train_size = sum(len(batch[1]) for batch in train_dataloader_pretrained)  # Assuming batch[1] is labels\n",
        "test_size = sum(len(batch[1]) for batch in test_dataloader_pretrained)\n",
        "\n",
        "print(f\"Total training samples: {train_size}\")\n",
        "print(f\"Total testing samples: {test_size}\")\n"
      ],
      "metadata": {
        "id": "K5HpTGxPl0fc",
        "outputId": "65741682-c8f7-47d0-c2e7-823dfadf8363",
        "colab": {
          "base_uri": "https://localhost:8080/"
        }
      },
      "id": "K5HpTGxPl0fc",
      "execution_count": 12,
      "outputs": [
        {
          "output_type": "stream",
          "name": "stdout",
          "text": [
            "Total training samples: 1057\n",
            "Total testing samples: 128\n"
          ]
        }
      ]
    },
    {
      "cell_type": "markdown",
      "id": "945149b4",
      "metadata": {
        "id": "945149b4"
      },
      "source": [
        "pretrained ViT performed far better than our custom ViT model trained from scratch (in the same amount of time).\n"
      ]
    },
    {
      "cell_type": "code",
      "execution_count": 13,
      "id": "2aae16a8",
      "metadata": {
        "colab": {
          "base_uri": "https://localhost:8080/",
          "height": 641
        },
        "id": "2aae16a8",
        "outputId": "f8d89ab5-32bd-42cf-a605-0c1303e40373"
      },
      "outputs": [
        {
          "output_type": "display_data",
          "data": {
            "text/plain": [
              "<Figure size 1500x700 with 2 Axes>"
            ],
            "image/png": "[encoded data removed]"
          },
          "metadata": {}
        }
      ],
      "source": [
        "# Plot the loss curves\n",
        "from helper_functions import plot_loss_curves\n",
        "\n",
        "plot_loss_curves(pretrained_vit_results)"
      ]
    },
    {
      "cell_type": "code",
      "source": [
        "import torch\n",
        "from sklearn.metrics import confusion_matrix\n",
        "import matplotlib.pyplot as plt\n",
        "import seaborn as sns\n",
        "\n",
        "# Set model to evaluation mode\n",
        "pretrained_vit.eval()\n",
        "\n",
        "# Disable gradient calculations (inference only)\n",
        "all_preds = []\n",
        "all_labels = []\n",
        "\n",
        "with torch.no_grad():\n",
        "    for images, labels in test_dataloader_pretrained:\n",
        "        images, labels = images.to(device), labels.to(device)\n",
        "\n",
        "        # Forward pass: Get predictions\n",
        "        outputs = pretrained_vit(images)\n",
        "        _, predicted = torch.max(outputs, 1)\n",
        "\n",
        "        # Store predictions and true labels\n",
        "        all_preds.extend(predicted.cpu().numpy())\n",
        "        all_labels.extend(labels.cpu().numpy())\n",
        "\n",
        "# Create confusion matrix\n",
        "conf_matrix = confusion_matrix(all_labels, all_preds)\n",
        "\n",
        "# Plot confusion matrix using seaborn\n",
        "plt.figure(figsize=(8, 6))\n",
        "sns.heatmap(conf_matrix, annot=True, fmt='d', cmap='Blues', xticklabels=True, yticklabels=True)\n",
        "plt.xlabel('Predicted Label')\n",
        "plt.ylabel('True Label')\n",
        "plt.title('Confusion Matrix')\n",
        "plt.show()"
      ],
      "metadata": {
        "colab": {
          "base_uri": "https://localhost:8080/",
          "height": 564
        },
        "id": "t8GcfnGdHKu2",
        "outputId": "86f01238-50a5-47ee-90f0-b693cd8ee065"
      },
      "id": "t8GcfnGdHKu2",
      "execution_count": 14,
      "outputs": [
        {
          "output_type": "display_data",
          "data": {
            "text/plain": [
              "<Figure size 800x600 with 2 Axes>"
            ],
            "image/png": "[encoded data removed]"
          },
          "metadata": {}
        }
      ]
    },
    {
      "cell_type": "code",
      "source": [
        "# Set model to evaluation mode\n",
        "pretrained_vit.eval()\n",
        "\n",
        "# Disable gradient calculations (inference only)\n",
        "with torch.no_grad():\n",
        "    correct = 0\n",
        "    total = 0\n",
        "\n",
        "    for images, labels in test_dataloader_pretrained:\n",
        "        images, labels = images.to(device), labels.to(device)\n",
        "\n",
        "        # Forward pass: Get predictions\n",
        "        outputs = pretrained_vit(images)\n",
        "        _, predicted = torch.max(outputs, 1)\n",
        "\n",
        "        # Update total and correct counts\n",
        "        total += labels.size(0)\n",
        "        correct += (predicted == labels).sum().item()\n",
        "\n",
        "# Calculate accuracy\n",
        "accuracy = correct / total * 100\n",
        "print(f'Accuracy on the test dataset: {accuracy:.2f}%')\n"
      ],
      "metadata": {
        "colab": {
          "base_uri": "https://localhost:8080/"
        },
        "id": "7OHiXhX1HKzd",
        "outputId": "ce647846-c870-4d13-946d-800edcabcbcf"
      },
      "id": "7OHiXhX1HKzd",
      "execution_count": 15,
      "outputs": [
        {
          "output_type": "stream",
          "name": "stdout",
          "text": [
            "Accuracy on the test dataset: 96.88%\n"
          ]
        }
      ]
    },
    {
      "cell_type": "code",
      "source": [],
      "metadata": {
        "id": "n0LKLt4qHK2B"
      },
      "id": "n0LKLt4qHK2B",
      "execution_count": 15,
      "outputs": []
    },
    {
      "cell_type": "code",
      "source": [],
      "metadata": {
        "id": "sWMp45rjdDm_"
      },
      "id": "sWMp45rjdDm_",
      "execution_count": 15,
      "outputs": []
    },
    {
      "cell_type": "markdown",
      "source": [
        "# RESULTS"
      ],
      "metadata": {
        "id": "rUpMU7tndEG8"
      },
      "id": "rUpMU7tndEG8"
    },
    {
      "cell_type": "code",
      "source": [
        "import torch\n",
        "from sklearn.metrics import (confusion_matrix, precision_score, recall_score, f1_score,\n",
        "                             matthews_corrcoef, cohen_kappa_score)\n",
        "import matplotlib.pyplot as plt\n",
        "import seaborn as sns\n",
        "import numpy as np\n",
        "\n",
        "# Calculate confusion matrix\n",
        "conf_matrix = confusion_matrix(all_labels, all_preds)\n",
        "num_classes = conf_matrix.shape[0]\n",
        "\n",
        "# Initialize variables for overall metrics\n",
        "total_TP, total_FN, total_TN, total_FP = 0, 0, 0, 0\n",
        "\n",
        "# Extract TN, FP, FN, TP and calculate per-class metrics\n",
        "per_class_metrics = []\n",
        "for i in range(num_classes):\n",
        "    TP = conf_matrix[i, i]\n",
        "    FN = conf_matrix[i, :].sum() - TP\n",
        "    FP = conf_matrix[:, i].sum() - TP\n",
        "    TN = conf_matrix.sum() - (TP + FP + FN)\n",
        "\n",
        "    # Accumulate overall values\n",
        "    total_TP += TP\n",
        "    total_FN += FN\n",
        "    total_FP += FP\n",
        "    total_TN += TN\n",
        "\n",
        "    # Append per-class metrics\n",
        "    per_class_metrics.append({\n",
        "        'class': f'Class {i}',\n",
        "        'accuracy': (TP + TN) / (TP + TN + FP + FN),\n",
        "        'sensitivity': TP / (TP + FN) if (TP + FN) > 0 else 0,  # Avoid division by zero\n",
        "        'specificity': TN / (TN + FP) if (TN + FP) > 0 else 0,  # Avoid division by zero\n",
        "    })\n",
        "\n",
        "print(\"True Positives (TP):\", TP)\n",
        "print(\"False Negatives (FN):\", FN)\n",
        "print(\"False Positives (FP):\", FP)\n",
        "print(\"True Negatives (TN):\", TN)"
      ],
      "metadata": {
        "colab": {
          "base_uri": "https://localhost:8080/"
        },
        "id": "zb1hvSJidG2N",
        "outputId": "2c0ea271-8cda-4470-e844-96ff41fdbac0"
      },
      "id": "zb1hvSJidG2N",
      "execution_count": 16,
      "outputs": [
        {
          "output_type": "stream",
          "name": "stdout",
          "text": [
            "True Positives (TP): 42\n",
            "False Negatives (FN): 2\n",
            "False Positives (FP): 2\n",
            "True Negatives (TN): 82\n"
          ]
        }
      ]
    },
    {
      "cell_type": "code",
      "source": [
        "accuracy = np.trace(conf_matrix) / conf_matrix.sum()\n",
        "sensitivity = total_TP / (total_TP + total_FN)\n",
        "specificity = total_TN / (total_TN + total_FP)\n",
        "\n",
        "# Calculate Metrics\n",
        "precision = precision_score(all_labels, all_preds, average=\"weighted\")\n",
        "f1 = f1_score(all_labels, all_preds, average=\"weighted\")\n",
        "mcc = matthews_corrcoef(all_labels, all_preds)\n",
        "kappa = cohen_kappa_score(all_labels, all_preds)\n",
        "\n",
        "# Print final overall values\n",
        "print(f\"Overall Accuracy: {accuracy * 100:.2f}%\")\n",
        "print(f\"Overall Sensitivity (Recall): {sensitivity * 100:.2f}%\")\n",
        "print(f\"Overall Specificity: {specificity * 100:.2f}%\")\n",
        "print(f\"F1 Score (Weighted): {f1 * 100:.2f}%\")\n",
        "print(f\"Precision (Weighted): {precision * 100:.2f}%\")\n",
        "print(f\"Matthews Correlation Coefficient: {mcc:.4f}\")\n",
        "print(f\"Cohen's Kappa: {kappa:.4f}\")\n",
        "\n",
        "# To Copy easily :>\n",
        "print(f\"{accuracy * 100:.2f}%\")\n",
        "print(f\"{sensitivity * 100:.2f}%\")\n",
        "print(f\"{specificity * 100:.2f}%\")\n",
        "print(f\"{f1 * 100:.2f}%\")\n",
        "print(f\"{precision * 100:.2f}%\")\n",
        "print(f\"{mcc:.4f}\")\n",
        "print(f\"{kappa:.4f}\")"
      ],
      "metadata": {
        "colab": {
          "base_uri": "https://localhost:8080/"
        },
        "id": "vmdMgLqFdG6o",
        "outputId": "3a461ae8-1abb-40fd-da64-351a6312c8b7"
      },
      "id": "vmdMgLqFdG6o",
      "execution_count": 17,
      "outputs": [
        {
          "output_type": "stream",
          "name": "stdout",
          "text": [
            "Overall Accuracy: 96.88%\n",
            "Overall Sensitivity (Recall): 96.88%\n",
            "Overall Specificity: 98.44%\n",
            "F1 Score (Weighted): 96.88%\n",
            "Precision (Weighted): 96.91%\n",
            "Matthews Correlation Coefficient: 0.9532\n",
            "Cohen's Kappa: 0.9531\n",
            "96.88%\n",
            "96.88%\n",
            "98.44%\n",
            "96.88%\n",
            "96.91%\n",
            "0.9532\n",
            "0.9531\n"
          ]
        }
      ]
    },
    {
      "cell_type": "code",
      "source": [
        "# Plot confusion matrix\n",
        "plt.figure(figsize=(8, 6))\n",
        "sns.heatmap(conf_matrix, annot=True, fmt='d', cmap='Blues', xticklabels=True, yticklabels=True)\n",
        "plt.xlabel('Predicted Label')\n",
        "plt.ylabel('True Label')\n",
        "plt.title('Confusion Matrix')\n",
        "plt.show()"
      ],
      "metadata": {
        "colab": {
          "base_uri": "https://localhost:8080/",
          "height": 564
        },
        "id": "lG-I_FDedG-D",
        "outputId": "5067f84d-ebdb-49ce-8733-490b61241cba"
      },
      "id": "lG-I_FDedG-D",
      "execution_count": 18,
      "outputs": [
        {
          "output_type": "display_data",
          "data": {
            "text/plain": [
              "<Figure size 800x600 with 2 Axes>"
            ],
            "image/png": "[encoded data removed]"
          },
          "metadata": {}
        }
      ]
    },
    {
      "cell_type": "code",
      "source": [
        "# Plot Metrics\n",
        "metrics = [accuracy, sensitivity, specificity, precision, f1, mcc, kappa]\n",
        "metric_names = [\"Accuracy\", \"Sensitivity\", \"Specificity\", \"Precision\", \"F1 Score\", \"MCC\", \"Kappa\"]\n",
        "\n",
        "plt.figure(figsize=(10, 6))\n",
        "plt.barh(metric_names, metrics, color=\"skyblue\")\n",
        "plt.xlabel(\"Metric Value\")\n",
        "plt.title(\"Model Metrics\")\n",
        "plt.xlim(0, 1)  # Metrics are between 0 and 1\n",
        "plt.show()"
      ],
      "metadata": {
        "colab": {
          "base_uri": "https://localhost:8080/",
          "height": 564
        },
        "id": "370b7J52dHBx",
        "outputId": "5c68620f-5a04-42de-c2ba-20e2da23b15e"
      },
      "id": "370b7J52dHBx",
      "execution_count": 19,
      "outputs": [
        {
          "output_type": "display_data",
          "data": {
            "text/plain": [
              "<Figure size 1000x600 with 1 Axes>"
            ],
            "image/png": "[encoded data removed]"
          },
          "metadata": {}
        }
      ]
    },
    {
      "cell_type": "code",
      "source": [
        "epochs = range(1, len(pretrained_vit_results['train_loss']) + 1)"
      ],
      "metadata": {
        "id": "YWkyDZ6kdasT"
      },
      "id": "YWkyDZ6kdasT",
      "execution_count": 20,
      "outputs": []
    },
    {
      "cell_type": "code",
      "source": [
        "# Test Loss Curve\n",
        "plt.figure(figsize=(10, 6))\n",
        "plt.plot(epochs, pretrained_vit_results['test_loss'], label='Test Loss', marker='o')\n",
        "plt.plot(epochs, pretrained_vit_results['train_loss'], label='Training Loss', marker='x')\n",
        "plt.xlabel('Epochs')\n",
        "plt.ylabel('Loss')\n",
        "plt.title('Test and Training Loss Curve')\n",
        "plt.legend()\n",
        "plt.show()\n",
        "\n",
        "print(\"Test Loss:\", pretrained_vit_results['test_loss'][-1])\n",
        "print(\"Training Loss:\", pretrained_vit_results['train_loss'][-1])"
      ],
      "metadata": {
        "colab": {
          "base_uri": "https://localhost:8080/",
          "height": 599
        },
        "id": "diAxjK4Eddaf",
        "outputId": "ed8e505b-03c8-46eb-8dd8-6ae21a7a49cb"
      },
      "id": "diAxjK4Eddaf",
      "execution_count": 21,
      "outputs": [
        {
          "output_type": "display_data",
          "data": {
            "text/plain": [
              "<Figure size 1000x600 with 1 Axes>"
            ],
            "image/png": "[encoded data removed]"
          },
          "metadata": {}
        },
        {
          "output_type": "stream",
          "name": "stdout",
          "text": [
            "Test Loss: 0.11354625876992941\n",
            "Training Loss: 0.0832720057463602\n"
          ]
        }
      ]
    },
    {
      "cell_type": "code",
      "source": [
        "# Test Accuracy Curve\n",
        "plt.figure(figsize=(10, 6))\n",
        "plt.plot(epochs, pretrained_vit_results['test_acc'], label='Test Accuracy', marker='o')\n",
        "plt.plot(epochs, pretrained_vit_results['train_acc'], label='Training Accuracy', marker='x')\n",
        "plt.xlabel('Epochs')\n",
        "plt.ylabel('Accuracy')\n",
        "plt.title('Test and Training Accuracy Curve')\n",
        "plt.legend()\n",
        "plt.show()\n",
        "print(\"Test Accuracy:\", pretrained_vit_results['test_acc'][-1])\n",
        "print(\"Training Accuracy:\", pretrained_vit_results['train_acc'][-1])"
      ],
      "metadata": {
        "colab": {
          "base_uri": "https://localhost:8080/",
          "height": 599
        },
        "id": "UCgExt9jddc2",
        "outputId": "75c9a504-a530-454e-e0aa-03594b506ef8"
      },
      "id": "UCgExt9jddc2",
      "execution_count": 22,
      "outputs": [
        {
          "output_type": "display_data",
          "data": {
            "text/plain": [
              "<Figure size 1000x600 with 1 Axes>"
            ],
            "image/png": "[encoded data removed]"
          },
          "metadata": {}
        },
        {
          "output_type": "stream",
          "name": "stdout",
          "text": [
            "Test Accuracy: 0.96875\n",
            "Training Accuracy: 0.9834558823529411\n"
          ]
        }
      ]
    },
    {
      "cell_type": "markdown",
      "id": "79922fd1",
      "metadata": {
        "id": "79922fd1"
      },
      "source": [
        "## That's the power of transfer learning!\n",
        "\n",
        "We managed to get outstanding results with the same model architecture, except our custom implementation was trained from scratch (worse performance) and this feature extractor model has the power of pretrained weights from ImageNet behind it."
      ]
    },
    {
      "cell_type": "markdown",
      "id": "6ce4427b",
      "metadata": {
        "id": "6ce4427b"
      },
      "source": [
        "# Let's make Prediction:"
      ]
    },
    {
      "cell_type": "code",
      "execution_count": 23,
      "id": "fe89b4e9",
      "metadata": {
        "id": "fe89b4e9"
      },
      "outputs": [],
      "source": [
        "# import requests\n",
        "\n",
        "# # Import function to make predictions on images and plot them\n",
        "# from going_modular.going_modular.predictions import pred_and_plot_image\n",
        "\n",
        "# # Setup custom image path\n",
        "# custom_image_path = \"/content/normal.jpg\"\n",
        "\n",
        "# # Predict on custom image\n",
        "# pred_and_plot_image(model=pretrained_vit,\n",
        "#                     image_path=custom_image_path,\n",
        "#                     class_names=class_names)"
      ]
    },
    {
      "cell_type": "code",
      "execution_count": 24,
      "id": "5e7d64d0",
      "metadata": {
        "id": "5e7d64d0"
      },
      "outputs": [],
      "source": [
        "# # Import function to make predictions on images and plot them\n",
        "# from going_modular.going_modular.predictions import pred_and_plot_image\n",
        "\n",
        "# # Setup custom image path\n",
        "# custom_image_path = \"/content/normal_trick_1.jpg\"\n",
        "\n",
        "# # Predict on custom image\n",
        "# pred_and_plot_image(model=pretrained_vit,\n",
        "#                     image_path=custom_image_path,\n",
        "#                     class_names=class_names)"
      ]
    },
    {
      "cell_type": "code",
      "source": [],
      "metadata": {
        "id": "1rYAvGsghEHp"
      },
      "id": "1rYAvGsghEHp",
      "execution_count": 24,
      "outputs": []
    },
    {
      "cell_type": "code",
      "source": [],
      "metadata": {
        "id": "uo7u1P_KhEKT"
      },
      "id": "uo7u1P_KhEKT",
      "execution_count": 24,
      "outputs": []
    },
    {
      "cell_type": "code",
      "execution_count": 24,
      "id": "eb7d0f9e",
      "metadata": {
        "id": "eb7d0f9e"
      },
      "outputs": [],
      "source": []
    }
  ],
  "metadata": {
    "kernelspec": {
      "display_name": "Python 3",
      "name": "python3"
    },
    "language_info": {
      "codemirror_mode": {
        "name": "ipython",
        "version": 3
      },
      "file_extension": ".py",
      "mimetype": "text/x-python",
      "name": "python",
      "nbconvert_exporter": "python",
      "pygments_lexer": "ipython3",
      "version": "3.9.10"
    },
    "colab": {
      "provenance": [],
      "gpuType": "T4",
      "include_colab_link": true
    },
    "accelerator": "GPU",
    "widgets": {
      "application/vnd.jupyter.widget-state+json": {
        "d1b73893d3a4474e8c4b56232d9f81da": {
          "model_module": "@jupyter-widgets/controls",
          "model_name": "HBoxModel",
          "model_module_version": "1.5.0",
          "state": {
            "_dom_classes": [],
            "_model_module": "@jupyter-widgets/controls",
            "_model_module_version": "1.5.0",
            "_model_name": "HBoxModel",
            "_view_count": null,
            "_view_module": "@jupyter-widgets/controls",
            "_view_module_version": "1.5.0",
            "_view_name": "HBoxView",
            "box_style": "",
            "children": [
              "IPY_MODEL_79bcd64359f74174a1b19c08243d169f",
              "IPY_MODEL_0111de9c85de46ee97821962c5716f5d",
              "IPY_MODEL_b271a1b7fb824d97afbb856300b1ad19"
            ],
            "layout": "IPY_MODEL_7946bebff97e4a63b97ece63d88138aa"
          }
        },
        "79bcd64359f74174a1b19c08243d169f": {
          "model_module": "@jupyter-widgets/controls",
          "model_name": "HTMLModel",
          "model_module_version": "1.5.0",
          "state": {
            "_dom_classes": [],
            "_model_module": "@jupyter-widgets/controls",
            "_model_module_version": "1.5.0",
            "_model_name": "HTMLModel",
            "_view_count": null,
            "_view_module": "@jupyter-widgets/controls",
            "_view_module_version": "1.5.0",
            "_view_name": "HTMLView",
            "description": "",
            "description_tooltip": null,
            "layout": "IPY_MODEL_0f2aafecfef5470a89ef9d3258e77952",
            "placeholder": "​",
            "style": "IPY_MODEL_4e9e0890fd8b4cf6b37909870ee89b22",
            "value": "100%"
          }
        },
        "0111de9c85de46ee97821962c5716f5d": {
          "model_module": "@jupyter-widgets/controls",
          "model_name": "FloatProgressModel",
          "model_module_version": "1.5.0",
          "state": {
            "_dom_classes": [],
            "_model_module": "@jupyter-widgets/controls",
            "_model_module_version": "1.5.0",
            "_model_name": "FloatProgressModel",
            "_view_count": null,
            "_view_module": "@jupyter-widgets/controls",
            "_view_module_version": "1.5.0",
            "_view_name": "ProgressView",
            "bar_style": "success",
            "description": "",
            "description_tooltip": null,
            "layout": "IPY_MODEL_a824756ab36540f5b610c5b72df92c2a",
            "max": 10,
            "min": 0,
            "orientation": "horizontal",
            "style": "IPY_MODEL_357016c3b2c540bface14ebdb89b1e04",
            "value": 10
          }
        },
        "b271a1b7fb824d97afbb856300b1ad19": {
          "model_module": "@jupyter-widgets/controls",
          "model_name": "HTMLModel",
          "model_module_version": "1.5.0",
          "state": {
            "_dom_classes": [],
            "_model_module": "@jupyter-widgets/controls",
            "_model_module_version": "1.5.0",
            "_model_name": "HTMLModel",
            "_view_count": null,
            "_view_module": "@jupyter-widgets/controls",
            "_view_module_version": "1.5.0",
            "_view_name": "HTMLView",
            "description": "",
            "description_tooltip": null,
            "layout": "IPY_MODEL_af61265a2a214f9a936d5b026063c39b",
            "placeholder": "​",
            "style": "IPY_MODEL_f0f3e72945df477aa479a2a6ae75e563",
            "value": " 10/10 [05:57&lt;00:00, 19.21s/it]"
          }
        },
        "7946bebff97e4a63b97ece63d88138aa": {
          "model_module": "@jupyter-widgets/base",
          "model_name": "LayoutModel",
          "model_module_version": "1.2.0",
          "state": {
            "_model_module": "@jupyter-widgets/base",
            "_model_module_version": "1.2.0",
            "_model_name": "LayoutModel",
            "_view_count": null,
            "_view_module": "@jupyter-widgets/base",
            "_view_module_version": "1.2.0",
            "_view_name": "LayoutView",
            "align_content": null,
            "align_items": null,
            "align_self": null,
            "border": null,
            "bottom": null,
            "display": null,
            "flex": null,
            "flex_flow": null,
            "grid_area": null,
            "grid_auto_columns": null,
            "grid_auto_flow": null,
            "grid_auto_rows": null,
            "grid_column": null,
            "grid_gap": null,
            "grid_row": null,
            "grid_template_areas": null,
            "grid_template_columns": null,
            "grid_template_rows": null,
            "height": null,
            "justify_content": null,
            "justify_items": null,
            "left": null,
            "margin": null,
            "max_height": null,
            "max_width": null,
            "min_height": null,
            "min_width": null,
            "object_fit": null,
            "object_position": null,
            "order": null,
            "overflow": null,
            "overflow_x": null,
            "overflow_y": null,
            "padding": null,
            "right": null,
            "top": null,
            "visibility": null,
            "width": null
          }
        },
        "0f2aafecfef5470a89ef9d3258e77952": {
          "model_module": "@jupyter-widgets/base",
          "model_name": "LayoutModel",
          "model_module_version": "1.2.0",
          "state": {
            "_model_module": "@jupyter-widgets/base",
            "_model_module_version": "1.2.0",
            "_model_name": "LayoutModel",
            "_view_count": null,
            "_view_module": "@jupyter-widgets/base",
            "_view_module_version": "1.2.0",
            "_view_name": "LayoutView",
            "align_content": null,
            "align_items": null,
            "align_self": null,
            "border": null,
            "bottom": null,
            "display": null,
            "flex": null,
            "flex_flow": null,
            "grid_area": null,
            "grid_auto_columns": null,
            "grid_auto_flow": null,
            "grid_auto_rows": null,
            "grid_column": null,
            "grid_gap": null,
            "grid_row": null,
            "grid_template_areas": null,
            "grid_template_columns": null,
            "grid_template_rows": null,
            "height": null,
            "justify_content": null,
            "justify_items": null,
            "left": null,
            "margin": null,
            "max_height": null,
            "max_width": null,
            "min_height": null,
            "min_width": null,
            "object_fit": null,
            "object_position": null,
            "order": null,
            "overflow": null,
            "overflow_x": null,
            "overflow_y": null,
            "padding": null,
            "right": null,
            "top": null,
            "visibility": null,
            "width": null
          }
        },
        "4e9e0890fd8b4cf6b37909870ee89b22": {
          "model_module": "@jupyter-widgets/controls",
          "model_name": "DescriptionStyleModel",
          "model_module_version": "1.5.0",
          "state": {
            "_model_module": "@jupyter-widgets/controls",
            "_model_module_version": "1.5.0",
            "_model_name": "DescriptionStyleModel",
            "_view_count": null,
            "_view_module": "@jupyter-widgets/base",
            "_view_module_version": "1.2.0",
            "_view_name": "StyleView",
            "description_width": ""
          }
        },
        "a824756ab36540f5b610c5b72df92c2a": {
          "model_module": "@jupyter-widgets/base",
          "model_name": "LayoutModel",
          "model_module_version": "1.2.0",
          "state": {
            "_model_module": "@jupyter-widgets/base",
            "_model_module_version": "1.2.0",
            "_model_name": "LayoutModel",
            "_view_count": null,
            "_view_module": "@jupyter-widgets/base",
            "_view_module_version": "1.2.0",
            "_view_name": "LayoutView",
            "align_content": null,
            "align_items": null,
            "align_self": null,
            "border": null,
            "bottom": null,
            "display": null,
            "flex": null,
            "flex_flow": null,
            "grid_area": null,
            "grid_auto_columns": null,
            "grid_auto_flow": null,
            "grid_auto_rows": null,
            "grid_column": null,
            "grid_gap": null,
            "grid_row": null,
            "grid_template_areas": null,
            "grid_template_columns": null,
            "grid_template_rows": null,
            "height": null,
            "justify_content": null,
            "justify_items": null,
            "left": null,
            "margin": null,
            "max_height": null,
            "max_width": null,
            "min_height": null,
            "min_width": null,
            "object_fit": null,
            "object_position": null,
            "order": null,
            "overflow": null,
            "overflow_x": null,
            "overflow_y": null,
            "padding": null,
            "right": null,
            "top": null,
            "visibility": null,
            "width": null
          }
        },
        "357016c3b2c540bface14ebdb89b1e04": {
          "model_module": "@jupyter-widgets/controls",
          "model_name": "ProgressStyleModel",
          "model_module_version": "1.5.0",
          "state": {
            "_model_module": "@jupyter-widgets/controls",
            "_model_module_version": "1.5.0",
            "_model_name": "ProgressStyleModel",
            "_view_count": null,
            "_view_module": "@jupyter-widgets/base",
            "_view_module_version": "1.2.0",
            "_view_name": "StyleView",
            "bar_color": null,
            "description_width": ""
          }
        },
        "af61265a2a214f9a936d5b026063c39b": {
          "model_module": "@jupyter-widgets/base",
          "model_name": "LayoutModel",
          "model_module_version": "1.2.0",
          "state": {
            "_model_module": "@jupyter-widgets/base",
            "_model_module_version": "1.2.0",
            "_model_name": "LayoutModel",
            "_view_count": null,
            "_view_module": "@jupyter-widgets/base",
            "_view_module_version": "1.2.0",
            "_view_name": "LayoutView",
            "align_content": null,
            "align_items": null,
            "align_self": null,
            "border": null,
            "bottom": null,
            "display": null,
            "flex": null,
            "flex_flow": null,
            "grid_area": null,
            "grid_auto_columns": null,
            "grid_auto_flow": null,
            "grid_auto_rows": null,
            "grid_column": null,
            "grid_gap": null,
            "grid_row": null,
            "grid_template_areas": null,
            "grid_template_columns": null,
            "grid_template_rows": null,
            "height": null,
            "justify_content": null,
            "justify_items": null,
            "left": null,
            "margin": null,
            "max_height": null,
            "max_width": null,
            "min_height": null,
            "min_width": null,
            "object_fit": null,
            "object_position": null,
            "order": null,
            "overflow": null,
            "overflow_x": null,
            "overflow_y": null,
            "padding": null,
            "right": null,
            "top": null,
            "visibility": null,
            "width": null
          }
        },
        "f0f3e72945df477aa479a2a6ae75e563": {
          "model_module": "@jupyter-widgets/controls",
          "model_name": "DescriptionStyleModel",
          "model_module_version": "1.5.0",
          "state": {
            "_model_module": "@jupyter-widgets/controls",
            "_model_module_version": "1.5.0",
            "_model_name": "DescriptionStyleModel",
            "_view_count": null,
            "_view_module": "@jupyter-widgets/base",
            "_view_module_version": "1.2.0",
            "_view_name": "StyleView",
            "description_width": ""
          }
        }
      }
    }
  },
  "nbformat": 4,
  "nbformat_minor": 5
}