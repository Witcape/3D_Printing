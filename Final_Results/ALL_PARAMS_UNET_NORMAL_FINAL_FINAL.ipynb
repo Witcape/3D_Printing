{
  "cells": [
    {
      "cell_type": "markdown",
      "metadata": {
        "id": "view-in-github",
        "colab_type": "text"
      },
      "source": [
        "<a href=\"https://colab.research.google.com/github/Witcape/3D_Printing/blob/main/Final_Results/ALL_PARAMS_UNET_NORMAL_FINAL_FINAL.ipynb\" target=\"_parent\"><img src=\"https://colab.research.google.com/assets/colab-badge.svg\" alt=\"Open In Colab\"/></a>"
      ]
    },
    {
      "cell_type": "code",
      "execution_count": 1,
      "id": "d6dcfae2-64ca-4fb1-843c-0a85ab389fd9",
      "metadata": {
        "id": "d6dcfae2-64ca-4fb1-843c-0a85ab389fd9"
      },
      "outputs": [],
      "source": [
        "import tensorflow as tf\n",
        "from tensorflow.keras.preprocessing.image import ImageDataGenerator\n",
        "from tensorflow import keras\n",
        "from tensorflow.keras.preprocessing.image import ImageDataGenerator\n",
        "from tensorflow.keras.preprocessing import image\n",
        "from tensorflow.keras.applications.inception_resnet_v2 import InceptionResNetV2, preprocess_input\n",
        "from tensorflow.keras.layers import Dense, Flatten,Dropout\n",
        "from tensorflow.keras.models import Model\n",
        "from tensorflow.keras.optimizers import Adam\n",
        "import numpy as np\n",
        "import random\n",
        "import matplotlib.pyplot as plt\n",
        "%matplotlib inline\n",
        "import tensorflow as tf\n",
        "from tensorflow import keras\n",
        "from tensorflow.keras.layers import Input, Conv2D, MaxPooling2D, ReLU\n",
        "from tensorflow.keras.layers import BatchNormalization, Conv2DTranspose, Concatenate\n",
        "from tensorflow.keras.models import Model"
      ]
    },
    {
      "cell_type": "code",
      "execution_count": 2,
      "id": "0aa6313b",
      "metadata": {
        "colab": {
          "base_uri": "https://localhost:8080/"
        },
        "id": "0aa6313b",
        "outputId": "8584c54e-81a3-43ee-9bcd-5ae8ead63191"
      },
      "outputs": [
        {
          "output_type": "stream",
          "name": "stdout",
          "text": [
            "Requirement already satisfied: opencv-python in /usr/local/lib/python3.10/dist-packages (4.10.0.84)\n",
            "Requirement already satisfied: numpy>=1.21.2 in /usr/local/lib/python3.10/dist-packages (from opencv-python) (1.26.4)\n"
          ]
        }
      ],
      "source": [
        "pip install opencv-python"
      ]
    },
    {
      "cell_type": "code",
      "execution_count": 3,
      "id": "X3dbOTWsYrQ0",
      "metadata": {
        "colab": {
          "base_uri": "https://localhost:8080/"
        },
        "id": "X3dbOTWsYrQ0",
        "outputId": "2aa4b52b-e379-4587-97f0-0df9f7e36319"
      },
      "outputs": [
        {
          "output_type": "stream",
          "name": "stdout",
          "text": [
            "Drive already mounted at /content/drive; to attempt to forcibly remount, call drive.mount(\"/content/drive\", force_remount=True).\n"
          ]
        }
      ],
      "source": [
        "from google.colab import drive\n",
        "drive.mount('/content/drive')"
      ]
    },
    {
      "cell_type": "code",
      "execution_count": 4,
      "id": "334e6c89",
      "metadata": {
        "id": "334e6c89"
      },
      "outputs": [],
      "source": [
        "import sys\n",
        "import keras\n",
        "import cv2\n",
        "import numpy\n",
        "import matplotlib\n",
        "import skimage\n",
        "from keras.models import Sequential\n",
        "from keras.layers import Conv2D\n",
        "from skimage.metrics import structural_similarity as ssim\n",
        "from matplotlib import pyplot as plt\n",
        "import numpy as np\n",
        "import math\n",
        "import os\n",
        "%matplotlib inline"
      ]
    },
    {
      "cell_type": "code",
      "execution_count": 5,
      "id": "99ef69f9",
      "metadata": {
        "id": "99ef69f9"
      },
      "outputs": [],
      "source": [
        "# define the SRCNN model\n",
        "def model():\n",
        "\n",
        "    # define model type\n",
        "    SRCNN = Sequential()\n",
        "\n",
        "    # add model layers\n",
        "    SRCNN.add(Conv2D(filters=128, kernel_size = (9, 9), kernel_initializer='glorot_uniform',\n",
        "                     activation='relu', padding='valid', use_bias=True, input_shape=(None, None, 1)))\n",
        "    SRCNN.add(Conv2D(filters=64, kernel_size = (3, 3), kernel_initializer='glorot_uniform',\n",
        "                     activation='relu', padding='same', use_bias=True))\n",
        "    SRCNN.add(Conv2D(filters=1, kernel_size = (5, 5), kernel_initializer='glorot_uniform',\n",
        "                     activation='linear', padding='valid', use_bias=True))\n",
        "\n",
        "    # define optimizer\n",
        "    adam = Adam(learning_rate=0.0003)\n",
        "\n",
        "    # compile model\n",
        "    SRCNN.compile(optimizer=adam, loss='mean_squared_error', metrics=['mean_squared_error'])\n",
        "\n",
        "    return SRCNN"
      ]
    },
    {
      "cell_type": "code",
      "execution_count": 6,
      "id": "4c47beb3",
      "metadata": {
        "id": "4c47beb3"
      },
      "outputs": [],
      "source": [
        "def shave(image, border):\n",
        "    img = image[border: -border, border: -border]\n",
        "    return img\n",
        "def predict_and_overwrite(image_path):\n",
        "    # Load the SRCNN model with weights\n",
        "    srcnn = model()\n",
        "    srcnn.load_weights(\"3051crop_weight_200.h5\")\n",
        "\n",
        "    # Load the degraded image\n",
        "    degraded = cv2.imread(image_path)\n",
        "\n",
        "    # Convert the image to YCrCb - (SRCNN trained on Y channel)\n",
        "    temp = cv2.cvtColor(degraded, cv2.COLOR_BGR2YCrCb)\n",
        "\n",
        "    # Create image slice and normalize\n",
        "    Y = np.zeros((1, temp.shape[0], temp.shape[1], 1), dtype=float)\n",
        "    Y[0, :, :, 0] = temp[:, :, 0].astype(float) / 255\n",
        "\n",
        "    # Perform super-resolution with SRCNN\n",
        "    pre = srcnn.predict(Y, batch_size=1)\n",
        "\n",
        "    # Post-process output\n",
        "    pre *= 255\n",
        "    pre[pre[:] > 255] = 255\n",
        "    pre[pre[:] < 0] = 0\n",
        "    pre = pre.astype(np.uint8)\n",
        "\n",
        "    # Pad the output Y channel to match the dimensions\n",
        "    output_Y = np.pad(pre[0, :, :, 0], ((6, 6), (6, 6)), mode='constant')\n",
        "\n",
        "    # Construct the super-resolved YCrCb image\n",
        "    output = np.stack([output_Y, temp[:, :, 1], temp[:, :, 2]], axis=-1)\n",
        "\n",
        "    # Convert the super-resolved image to BGR\n",
        "    output = cv2.cvtColor(output, cv2.COLOR_YCrCb2BGR)\n",
        "\n",
        "    # Shave the borders\n",
        "    output = shave(output, 6)\n",
        "\n",
        "    # Resize the image to 256x256\n",
        "    output = cv2.resize(output, (256, 256))\n",
        "\n",
        "    # Overwrite degraded image with super-resolved output\n",
        "    cv2.imwrite(image_path, output)"
      ]
    },
    {
      "cell_type": "code",
      "execution_count": 7,
      "id": "LgDytwx7YGcR",
      "metadata": {
        "id": "LgDytwx7YGcR"
      },
      "outputs": [],
      "source": [
        "def is_supported_format(filename):\n",
        "    supported_formats = ('.jpg', '.jpeg', '.png', '.bmp', '.gif')\n",
        "    return filename.lower().endswith(supported_formats)"
      ]
    },
    {
      "cell_type": "code",
      "execution_count": 8,
      "id": "56d03bb4",
      "metadata": {
        "id": "56d03bb4"
      },
      "outputs": [],
      "source": [
        "# for dirname, _, filenames in os.walk(\"/content/drive/MyDrive/Final_Final/Train\"):\n",
        "#     for filename in filenames:\n",
        "#         if is_supported_format(filename):\n",
        "#             img_path=os.path.join(dirname, filename)\n",
        "#             predict_and_overwrite(img_path)\n",
        "\n",
        "# for dirname, _, filenames in os.walk(\"/content/drive/MyDrive/Final_Final/Test\"):\n",
        "#     for filename in filenames:\n",
        "#         if is_supported_format(filename):  # Check if the file is in a supported format\n",
        "#             img_path=os.path.join(dirname, filename)\n",
        "#             predict_and_overwrite(img_path)"
      ]
    },
    {
      "cell_type": "code",
      "execution_count": 9,
      "id": "7183493c-32a1-419a-b018-d7db2cdc511b",
      "metadata": {
        "id": "7183493c-32a1-419a-b018-d7db2cdc511b"
      },
      "outputs": [],
      "source": [
        "# path='/content/model.h5'\n",
        "# dataset=path.File(path,\"r\")\n",
        "# import h5py\n",
        "\n",
        "im_shape = (256,256)\n",
        "TRAINING_DIR = \"/content/drive/MyDrive/Final_Final/Train\"\n",
        "TEST_DIR = \"/content/drive/MyDrive/Final_Final/Test\"\n",
        "seed = 10\n",
        "BATCH_SIZE = 128"
      ]
    },
    {
      "cell_type": "code",
      "execution_count": 10,
      "id": "5f67b3aa-5594-4147-b4f1-1dbfe038bd7c",
      "metadata": {
        "id": "5f67b3aa-5594-4147-b4f1-1dbfe038bd7c"
      },
      "outputs": [],
      "source": [
        "data_generator = ImageDataGenerator(\n",
        "        validation_split=0.2,\n",
        "        preprocessing_function=preprocess_input,\n",
        "        #rescale=1./255,\n",
        "        shear_range=0.2,\n",
        "        zoom_range=0.2,\n",
        "        horizontal_flip=False,\n",
        "        fill_mode='nearest')\n",
        "val_data_generator = ImageDataGenerator(preprocessing_function=preprocess_input,validation_split=0.2)"
      ]
    },
    {
      "cell_type": "code",
      "execution_count": 11,
      "id": "301a2ffb-be9b-4166-8609-9fe2a75a0ca6",
      "metadata": {
        "id": "301a2ffb-be9b-4166-8609-9fe2a75a0ca6",
        "colab": {
          "base_uri": "https://localhost:8080/"
        },
        "outputId": "ee466a30-b809-4488-c014-daf5aee7dd96"
      },
      "outputs": [
        {
          "output_type": "stream",
          "name": "stdout",
          "text": [
            "Found 694 images belonging to 3 classes.\n",
            "Found 172 images belonging to 3 classes.\n",
            "Found 387 images belonging to 3 classes.\n",
            "Classes: ['Normal', 'Shaghetti', 'Stringing']\n"
          ]
        }
      ],
      "source": [
        "train_generator = data_generator.flow_from_directory(TRAINING_DIR, target_size=im_shape, shuffle=True, seed=seed,class_mode='categorical', batch_size=BATCH_SIZE, subset=\"training\")\n",
        "validation_generator = val_data_generator.flow_from_directory(TRAINING_DIR, target_size=im_shape, shuffle=False, seed=seed,\n",
        "                                                     class_mode='categorical', batch_size=BATCH_SIZE, subset=\"validation\")\n",
        "test_generator = ImageDataGenerator(preprocessing_function=preprocess_input,validation_split=0.0)\n",
        "test_generator = test_generator.flow_from_directory(TEST_DIR, target_size=im_shape, shuffle=False, seed=seed,\n",
        "                                                     class_mode='categorical', batch_size=BATCH_SIZE)\n",
        "\n",
        "nb_train_samples = train_generator.samples\n",
        "nb_validation_samples = validation_generator.samples\n",
        "nb_test_samples = test_generator.samples\n",
        "classes = list(train_generator.class_indices.keys())\n",
        "print('Classes: '+str(classes))\n",
        "num_classes  = len(classes)"
      ]
    },
    {
      "cell_type": "code",
      "execution_count": 12,
      "id": "256868e7-5fad-4e38-a341-dd6d9115df67",
      "metadata": {
        "id": "256868e7-5fad-4e38-a341-dd6d9115df67"
      },
      "outputs": [],
      "source": [
        "# # Assuming `train_generator` is your DirectoryIterator object\n",
        "# for i in range(9):\n",
        "#     plt.subplot(330 + 1 + i)\n",
        "#     batch = next(train_generator)[0] * 255\n",
        "#     image = batch[0].astype('uint8')\n",
        "#     plt.imshow(image)\n",
        "\n",
        "# plt.show()"
      ]
    },
    {
      "cell_type": "markdown",
      "id": "a7084435-6670-4e78-b0e2-b9dba1dece13",
      "metadata": {
        "id": "a7084435-6670-4e78-b0e2-b9dba1dece13"
      },
      "source": [
        "UNet"
      ]
    },
    {
      "cell_type": "code",
      "source": [
        "from tensorflow.keras.models import Model\n",
        "from tensorflow.keras.layers import Conv2D, Conv2DTranspose, MaxPool2D, Dropout, concatenate, Input, Dense, GlobalAveragePooling2D, LeakyReLU\n",
        "from tensorflow.keras.optimizers import Adam\n",
        "import time\n",
        "\n",
        "def unet(input_img):\n",
        "    # Downsampling path\n",
        "    c1 = Conv2D(16, (3, 3), activation='relu', padding='same')(input_img)\n",
        "    c2 = Conv2D(16, (3, 3), activation='relu', padding='same')(c1)\n",
        "    mp1 = MaxPool2D((2, 2))(c2)\n",
        "\n",
        "    c3 = Conv2D(32, (3, 3), activation='relu', padding='same')(mp1)\n",
        "    c4 = Conv2D(32, (3, 3), activation='relu', padding='same')(c3)\n",
        "    mp2 = MaxPool2D((2, 2))(c4)\n",
        "\n",
        "    # Bottleneck\n",
        "    dr1 = Dropout(0.3)(mp2)\n",
        "    c5 = Conv2D(64, (3, 3), activation='relu', padding='same')(dr1)\n",
        "    c6 = Conv2D(64, (3, 3), activation='relu', padding='same')(c5)\n",
        "\n",
        "    # Upsampling path\n",
        "    up1 = Conv2DTranspose(32, (2, 2), strides=(2, 2), padding='same')(c6)\n",
        "    merge1 = concatenate([c4, up1])\n",
        "    c7 = Conv2D(32, (3, 3), activation='relu', padding='same')(merge1)\n",
        "\n",
        "    up2 = Conv2DTranspose(16, (2, 2), strides=(2, 2), padding='same')(c7)\n",
        "    merge2 = concatenate([c2, up2])\n",
        "    c8 = Conv2D(16, (3, 3), activation='relu', padding='same')(merge2)\n",
        "\n",
        "    return c8\n",
        "\n",
        "# Model definition\n",
        "input_img = Input(shape=(256, 256, 3))  # Reduced input size\n",
        "x = GlobalAveragePooling2D()(unet(input_img))  # Replace Flatten with GAP\n",
        "x = Dropout(0.3)(x)\n",
        "x = Dense(64, activation=LeakyReLU(alpha=0.1))(x)  # Smaller dense layer\n",
        "z = Dense(3, activation='softmax')(x)\n",
        "model = Model(input_img, z)\n",
        "model.summary()\n",
        "\n",
        "# Compile and train\n",
        "model.compile(loss='categorical_crossentropy', optimizer=Adam(learning_rate=0.001), metrics=['accuracy'])\n",
        "start_time = time.time()\n",
        "plotter = model.fit(train_generator, validation_data=test_generator, epochs=10, batch_size=2)  # Smaller batch size\n",
        "training_time = time.time() - start_time\n",
        "print(\"Training Time: {:.2f} seconds\".format(training_time))\n"
      ],
      "metadata": {
        "colab": {
          "base_uri": "https://localhost:8080/"
        },
        "id": "MwzEoD87Jy6s",
        "outputId": "627bbf30-3be6-4d63-ff31-4da32d6377f7"
      },
      "id": "MwzEoD87Jy6s",
      "execution_count": 13,
      "outputs": [
        {
          "output_type": "stream",
          "name": "stdout",
          "text": [
            "Model: \"model\"\n",
            "__________________________________________________________________________________________________\n",
            " Layer (type)                Output Shape                 Param #   Connected to                  \n",
            "==================================================================================================\n",
            " input_1 (InputLayer)        [(None, 256, 256, 3)]        0         []                            \n",
            "                                                                                                  \n",
            " conv2d (Conv2D)             (None, 256, 256, 16)         448       ['input_1[0][0]']             \n",
            "                                                                                                  \n",
            " conv2d_1 (Conv2D)           (None, 256, 256, 16)         2320      ['conv2d[0][0]']              \n",
            "                                                                                                  \n",
            " max_pooling2d (MaxPooling2  (None, 128, 128, 16)         0         ['conv2d_1[0][0]']            \n",
            " D)                                                                                               \n",
            "                                                                                                  \n",
            " conv2d_2 (Conv2D)           (None, 128, 128, 32)         4640      ['max_pooling2d[0][0]']       \n",
            "                                                                                                  \n",
            " conv2d_3 (Conv2D)           (None, 128, 128, 32)         9248      ['conv2d_2[0][0]']            \n",
            "                                                                                                  \n",
            " max_pooling2d_1 (MaxPoolin  (None, 64, 64, 32)           0         ['conv2d_3[0][0]']            \n",
            " g2D)                                                                                             \n",
            "                                                                                                  \n",
            " dropout (Dropout)           (None, 64, 64, 32)           0         ['max_pooling2d_1[0][0]']     \n",
            "                                                                                                  \n",
            " conv2d_4 (Conv2D)           (None, 64, 64, 64)           18496     ['dropout[0][0]']             \n",
            "                                                                                                  \n",
            " conv2d_5 (Conv2D)           (None, 64, 64, 64)           36928     ['conv2d_4[0][0]']            \n",
            "                                                                                                  \n",
            " conv2d_transpose (Conv2DTr  (None, 128, 128, 32)         8224      ['conv2d_5[0][0]']            \n",
            " anspose)                                                                                         \n",
            "                                                                                                  \n",
            " concatenate (Concatenate)   (None, 128, 128, 64)         0         ['conv2d_3[0][0]',            \n",
            "                                                                     'conv2d_transpose[0][0]']    \n",
            "                                                                                                  \n",
            " conv2d_6 (Conv2D)           (None, 128, 128, 32)         18464     ['concatenate[0][0]']         \n",
            "                                                                                                  \n",
            " conv2d_transpose_1 (Conv2D  (None, 256, 256, 16)         2064      ['conv2d_6[0][0]']            \n",
            " Transpose)                                                                                       \n",
            "                                                                                                  \n",
            " concatenate_1 (Concatenate  (None, 256, 256, 32)         0         ['conv2d_1[0][0]',            \n",
            " )                                                                   'conv2d_transpose_1[0][0]']  \n",
            "                                                                                                  \n",
            " conv2d_7 (Conv2D)           (None, 256, 256, 16)         4624      ['concatenate_1[0][0]']       \n",
            "                                                                                                  \n",
            " global_average_pooling2d (  (None, 16)                   0         ['conv2d_7[0][0]']            \n",
            " GlobalAveragePooling2D)                                                                          \n",
            "                                                                                                  \n",
            " dropout_1 (Dropout)         (None, 16)                   0         ['global_average_pooling2d[0][\n",
            "                                                                    0]']                          \n",
            "                                                                                                  \n",
            " dense (Dense)               (None, 64)                   1088      ['dropout_1[0][0]']           \n",
            "                                                                                                  \n",
            " dense_1 (Dense)             (None, 3)                    195       ['dense[0][0]']               \n",
            "                                                                                                  \n",
            "==================================================================================================\n",
            "Total params: 106739 (416.95 KB)\n",
            "Trainable params: 106739 (416.95 KB)\n",
            "Non-trainable params: 0 (0.00 Byte)\n",
            "__________________________________________________________________________________________________\n",
            "Epoch 1/10\n",
            "6/6 [==============================] - 228s 37s/step - loss: 1.0848 - accuracy: 0.3804 - val_loss: 1.0921 - val_accuracy: 0.3540\n",
            "Epoch 2/10\n",
            "6/6 [==============================] - 224s 37s/step - loss: 1.0712 - accuracy: 0.4049 - val_loss: 1.0947 - val_accuracy: 0.3566\n",
            "Epoch 3/10\n",
            "6/6 [==============================] - 223s 37s/step - loss: 1.0690 - accuracy: 0.4121 - val_loss: 1.0914 - val_accuracy: 0.3566\n",
            "Epoch 4/10\n",
            "6/6 [==============================] - 222s 37s/step - loss: 1.0649 - accuracy: 0.4222 - val_loss: 1.0897 - val_accuracy: 0.3566\n",
            "Epoch 5/10\n",
            "6/6 [==============================] - 222s 37s/step - loss: 1.0632 - accuracy: 0.4280 - val_loss: 1.0918 - val_accuracy: 0.3592\n",
            "Epoch 6/10\n",
            "6/6 [==============================] - 222s 37s/step - loss: 1.0599 - accuracy: 0.4135 - val_loss: 1.0932 - val_accuracy: 0.3592\n",
            "Epoch 7/10\n",
            "6/6 [==============================] - 222s 37s/step - loss: 1.0565 - accuracy: 0.4265 - val_loss: 1.0925 - val_accuracy: 0.3566\n",
            "Epoch 8/10\n",
            "6/6 [==============================] - 223s 37s/step - loss: 1.0561 - accuracy: 0.4323 - val_loss: 1.0902 - val_accuracy: 0.3618\n",
            "Epoch 9/10\n",
            "6/6 [==============================] - 221s 36s/step - loss: 1.0474 - accuracy: 0.4424 - val_loss: 1.0892 - val_accuracy: 0.3437\n",
            "Epoch 10/10\n",
            "6/6 [==============================] - 222s 41s/step - loss: 1.0413 - accuracy: 0.4380 - val_loss: 1.0886 - val_accuracy: 0.3876\n",
            "Training Time: 2231.66 seconds\n"
          ]
        }
      ]
    },
    {
      "cell_type": "code",
      "execution_count": 14,
      "id": "10b26c01",
      "metadata": {
        "id": "10b26c01",
        "colab": {
          "base_uri": "https://localhost:8080/",
          "height": 1000
        },
        "outputId": "c0ee5db4-482e-4730-ae8d-9cb30309b456"
      },
      "outputs": [
        {
          "output_type": "stream",
          "name": "stdout",
          "text": [
            "4/4 [==============================] - 23s 5s/step - loss: 1.0886 - accuracy: 0.3876\n",
            "Test Accuracy: 0.39\n",
            "4/4 [==============================] - 23s 5s/step\n",
            "Accuracy: 0.39\n",
            "Sensitivity (Recall): 0.39\n",
            "Specificity: 0.34\n",
            "F1 Score: 0.33\n",
            "Precision: 0.28\n",
            "MCC: 0.0238\n",
            "Cohen's Kappa: 0.0214\n",
            "AUC-ROC: 0.53\n",
            "38.76%\n",
            "38.76%\n",
            "34.45%\n",
            "28.32%\n",
            "32.53%\n",
            "0.0238\n",
            "0.0214\n"
          ]
        },
        {
          "output_type": "stream",
          "name": "stderr",
          "text": [
            "/usr/local/lib/python3.10/dist-packages/sklearn/metrics/_classification.py:1565: UndefinedMetricWarning: Precision is ill-defined and being set to 0.0 in labels with no predicted samples. Use `zero_division` parameter to control this behavior.\n",
            "  _warn_prf(average, modifier, f\"{metric.capitalize()} is\", len(result))\n"
          ]
        },
        {
          "output_type": "display_data",
          "data": {
            "text/plain": [
              "<Figure size 1200x600 with 2 Axes>"
            ],
            "image/png": "[encoded data removed]"
          },
          "metadata": {}
        },
        {
          "output_type": "display_data",
          "data": {
            "text/plain": [
              "<Figure size 1000x800 with 2 Axes>"
            ],
            "image/png": "[encoded data removed]"
          },
          "metadata": {}
        }
      ],
      "source": [
        "from sklearn.metrics import accuracy_score, precision_score, recall_score, f1_score, confusion_matrix, matthews_corrcoef, cohen_kappa_score, roc_auc_score\n",
        "import numpy as np\n",
        "import matplotlib.pyplot as plt\n",
        "import seaborn as sns\n",
        "import tensorflow as tf\n",
        "\n",
        "# Evaluate the model\n",
        "test_loss, test_accuracy = model.evaluate(test_generator)\n",
        "print(f\"Test Accuracy: {test_accuracy:.2f}\")\n",
        "\n",
        "# Predict the test data\n",
        "test_preds = model.predict(test_generator)\n",
        "test_pred_classes = np.argmax(test_preds, axis=1)\n",
        "true_classes = test_generator.classes\n",
        "\n",
        "# Calculate metrics\n",
        "accuracy = accuracy_score(true_classes, test_pred_classes)\n",
        "precision = precision_score(true_classes, test_pred_classes, average='weighted')\n",
        "sensitivity = recall_score(true_classes, test_pred_classes, average='weighted')  # Sensitivity = Recall\n",
        "f1 = f1_score(true_classes, test_pred_classes, average='weighted')\n",
        "conf_matrix = confusion_matrix(true_classes, test_pred_classes)\n",
        "mcc = matthews_corrcoef(true_classes, test_pred_classes)\n",
        "kappa = cohen_kappa_score(true_classes, test_pred_classes)\n",
        "\n",
        "# Calculate specificity\n",
        "specificity = np.mean([conf_matrix[i, i] / (np.sum(conf_matrix[i, :]) - conf_matrix[i, i] + conf_matrix[i, i]) for i in range(len(conf_matrix))])\n",
        "\n",
        "print(f\"Accuracy: {accuracy:.2f}\")\n",
        "print(f\"Sensitivity (Recall): {sensitivity:.2f}\")\n",
        "print(f\"Specificity: {specificity:.2f}\")\n",
        "print(f\"F1 Score: {f1:.2f}\")\n",
        "print(f\"Precision: {precision:.2f}\")\n",
        "print(f\"MCC: {mcc:.4f}\")\n",
        "print(f\"Cohen's Kappa: {kappa:.4f}\")\n",
        "\n",
        "# AUC-ROC\n",
        "roc_auc = roc_auc_score(tf.keras.utils.to_categorical(true_classes, num_classes=3), test_preds, multi_class='ovr')\n",
        "print(f\"AUC-ROC: {roc_auc:.2f}\")\n",
        "\n",
        "# To copy easily\n",
        "print(f\"{accuracy * 100:.2f}%\")\n",
        "print(f\"{sensitivity * 100:.2f}%\")\n",
        "print(f\"{specificity * 100:.2f}%\")\n",
        "print(f\"{precision * 100:.2f}%\")\n",
        "print(f\"{f1 * 100:.2f}%\")\n",
        "print(f\"{mcc:.4f}\")\n",
        "print(f\"{kappa:.4f}\")\n",
        "\n",
        "# Plot training & validation accuracy values\n",
        "plt.figure(figsize=(12, 6))\n",
        "plt.subplot(1, 2, 1)\n",
        "plt.plot(plotter.history['accuracy'])\n",
        "plt.plot(plotter.history['val_accuracy'])\n",
        "plt.title('Model Accuracy')\n",
        "plt.ylabel('Accuracy')\n",
        "plt.xlabel('Epoch')\n",
        "plt.legend(['Train', 'Validation'], loc='upper left')\n",
        "\n",
        "# Plot training & validation loss values\n",
        "plt.subplot(1, 2, 2)\n",
        "plt.plot(plotter.history['loss'])\n",
        "plt.plot(plotter.history['val_loss'])\n",
        "plt.title('Model Loss')\n",
        "plt.ylabel('Loss')\n",
        "plt.xlabel('Epoch')\n",
        "plt.legend(['Train', 'Validation'], loc='upper left')\n",
        "plt.show()\n",
        "\n",
        "# Plot confusion matrix heatmap\n",
        "plt.figure(figsize=(10, 8))\n",
        "sns.heatmap(conf_matrix, annot=True, fmt='d', cmap='Blues')\n",
        "plt.xlabel('Predicted')\n",
        "plt.ylabel('Actual')\n",
        "plt.title('Confusion Matrix')\n",
        "plt.show()"
      ]
    },
    {
      "cell_type": "code",
      "execution_count": 14,
      "id": "0fcfdf61-9cbe-4f28-8c4b-5d223d080a4d",
      "metadata": {
        "id": "0fcfdf61-9cbe-4f28-8c4b-5d223d080a4d"
      },
      "outputs": [],
      "source": []
    },
    {
      "cell_type": "code",
      "source": [],
      "metadata": {
        "id": "MRyZ3a59A_Zu"
      },
      "id": "MRyZ3a59A_Zu",
      "execution_count": 14,
      "outputs": []
    },
    {
      "cell_type": "code",
      "source": [],
      "metadata": {
        "id": "O7j_C4DbA_fq"
      },
      "id": "O7j_C4DbA_fq",
      "execution_count": 14,
      "outputs": []
    }
  ],
  "metadata": {
    "accelerator": "TPU",
    "colab": {
      "gpuType": "V28",
      "provenance": [],
      "include_colab_link": true
    },
    "kernelspec": {
      "display_name": "Python 3",
      "name": "python3"
    },
    "language_info": {
      "codemirror_mode": {
        "name": "ipython",
        "version": 3
      },
      "file_extension": ".py",
      "mimetype": "text/x-python",
      "name": "python",
      "nbconvert_exporter": "python",
      "pygments_lexer": "ipython3",
      "version": "3.11.4"
    }
  },
  "nbformat": 4,
  "nbformat_minor": 5
}