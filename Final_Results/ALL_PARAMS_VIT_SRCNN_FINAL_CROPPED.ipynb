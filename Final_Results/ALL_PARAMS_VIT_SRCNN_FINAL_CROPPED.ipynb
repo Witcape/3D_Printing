{
  "cells": [
    {
      "cell_type": "markdown",
      "metadata": {
        "id": "view-in-github",
        "colab_type": "text"
      },
      "source": [
        "<a href=\"https://colab.research.google.com/github/Witcape/3D_Printing/blob/main/Final_Results/ALL_PARAMS_VIT_SRCNN_FINAL_CROPPED.ipynb\" target=\"_parent\"><img src=\"https://colab.research.google.com/assets/colab-badge.svg\" alt=\"Open In Colab\"/></a>"
      ]
    },
    {
      "cell_type": "code",
      "source": [
        "!git clone https://github.com/AarohiSingla/Image-Classification-Using-Vision-transformer\n",
        "%cd Image-Classification-Using-Vision-transformer"
      ],
      "metadata": {
        "colab": {
          "base_uri": "https://localhost:8080/"
        },
        "id": "IUApWdZAein8",
        "outputId": "13cda730-a307-4b84-a6e4-8924d685db7b"
      },
      "id": "IUApWdZAein8",
      "execution_count": 1,
      "outputs": [
        {
          "output_type": "stream",
          "name": "stdout",
          "text": [
            "fatal: destination path 'Image-Classification-Using-Vision-transformer' already exists and is not an empty directory.\n",
            "/content/Image-Classification-Using-Vision-transformer\n"
          ]
        }
      ]
    },
    {
      "cell_type": "code",
      "execution_count": 2,
      "id": "1fb1c10e",
      "metadata": {
        "colab": {
          "base_uri": "https://localhost:8080/"
        },
        "id": "1fb1c10e",
        "outputId": "e8256bc7-15b8-4c6a-b7f5-22c72d027831"
      },
      "outputs": [
        {
          "output_type": "stream",
          "name": "stdout",
          "text": [
            "Drive already mounted at /content/drive; to attempt to forcibly remount, call drive.mount(\"/content/drive\", force_remount=True).\n"
          ]
        }
      ],
      "source": [
        "import matplotlib.pyplot as plt\n",
        "import torch\n",
        "import torchvision\n",
        "\n",
        "from torch import nn\n",
        "from torchvision import transforms\n",
        "from helper_functions import set_seeds\n",
        "from google.colab import drive\n",
        "drive.mount('/content/drive')"
      ]
    },
    {
      "cell_type": "code",
      "execution_count": 3,
      "id": "12e97c71",
      "metadata": {
        "colab": {
          "base_uri": "https://localhost:8080/",
          "height": 35
        },
        "id": "12e97c71",
        "outputId": "7949cea9-8999-4cc9-a2ce-d955446d31e4"
      },
      "outputs": [
        {
          "output_type": "execute_result",
          "data": {
            "text/plain": [
              "'cuda'"
            ],
            "application/vnd.google.colaboratory.intrinsic+json": {
              "type": "string"
            }
          },
          "metadata": {},
          "execution_count": 3
        }
      ],
      "source": [
        "device = \"cuda\" if torch.cuda.is_available() else \"cpu\"\n",
        "device"
      ]
    },
    {
      "cell_type": "code",
      "execution_count": 4,
      "id": "0de25b1a",
      "metadata": {
        "id": "0de25b1a"
      },
      "outputs": [],
      "source": [
        "# 1. Get pretrained weights for ViT-Base\n",
        "pretrained_vit_weights = torchvision.models.ViT_B_16_Weights.DEFAULT\n",
        "\n",
        "# 2. Setup a ViT model instance with pretrained weights\n",
        "pretrained_vit = torchvision.models.vit_b_16(weights=pretrained_vit_weights).to(device)\n",
        "\n",
        "# 3. Freeze the base parameters\n",
        "for parameter in pretrained_vit.parameters():\n",
        "    parameter.requires_grad = False\n",
        "\n",
        "# 4. Change the classifier head\n",
        "class_names = ['Normal','Spaghetti','Stringing']\n",
        "\n",
        "set_seeds()\n",
        "pretrained_vit.heads = nn.Linear(in_features=768, out_features=len(class_names)).to(device)\n",
        "# pretrained_vit # uncomment for model output"
      ]
    },
    {
      "cell_type": "code",
      "execution_count": 5,
      "id": "e3feaa42",
      "metadata": {
        "colab": {
          "base_uri": "https://localhost:8080/"
        },
        "id": "e3feaa42",
        "outputId": "a7a31d7d-c660-4a17-a183-6748465cd7b8"
      },
      "outputs": [
        {
          "output_type": "stream",
          "name": "stdout",
          "text": [
            "Requirement already satisfied: torchinfo in /usr/local/lib/python3.10/dist-packages (1.8.0)\n"
          ]
        },
        {
          "output_type": "execute_result",
          "data": {
            "text/plain": [
              "============================================================================================================================================\n",
              "Layer (type (var_name))                                      Input Shape          Output Shape         Param #              Trainable\n",
              "============================================================================================================================================\n",
              "VisionTransformer (VisionTransformer)                        [32, 3, 224, 224]    [32, 3]              768                  Partial\n",
              "├─Conv2d (conv_proj)                                         [32, 3, 224, 224]    [32, 768, 14, 14]    (590,592)            False\n",
              "├─Encoder (encoder)                                          [32, 197, 768]       [32, 197, 768]       151,296              False\n",
              "│    └─Dropout (dropout)                                     [32, 197, 768]       [32, 197, 768]       --                   --\n",
              "│    └─Sequential (layers)                                   [32, 197, 768]       [32, 197, 768]       --                   False\n",
              "│    │    └─EncoderBlock (encoder_layer_0)                   [32, 197, 768]       [32, 197, 768]       (7,087,872)          False\n",
              "│    │    └─EncoderBlock (encoder_layer_1)                   [32, 197, 768]       [32, 197, 768]       (7,087,872)          False\n",
              "│    │    └─EncoderBlock (encoder_layer_2)                   [32, 197, 768]       [32, 197, 768]       (7,087,872)          False\n",
              "│    │    └─EncoderBlock (encoder_layer_3)                   [32, 197, 768]       [32, 197, 768]       (7,087,872)          False\n",
              "│    │    └─EncoderBlock (encoder_layer_4)                   [32, 197, 768]       [32, 197, 768]       (7,087,872)          False\n",
              "│    │    └─EncoderBlock (encoder_layer_5)                   [32, 197, 768]       [32, 197, 768]       (7,087,872)          False\n",
              "│    │    └─EncoderBlock (encoder_layer_6)                   [32, 197, 768]       [32, 197, 768]       (7,087,872)          False\n",
              "│    │    └─EncoderBlock (encoder_layer_7)                   [32, 197, 768]       [32, 197, 768]       (7,087,872)          False\n",
              "│    │    └─EncoderBlock (encoder_layer_8)                   [32, 197, 768]       [32, 197, 768]       (7,087,872)          False\n",
              "│    │    └─EncoderBlock (encoder_layer_9)                   [32, 197, 768]       [32, 197, 768]       (7,087,872)          False\n",
              "│    │    └─EncoderBlock (encoder_layer_10)                  [32, 197, 768]       [32, 197, 768]       (7,087,872)          False\n",
              "│    │    └─EncoderBlock (encoder_layer_11)                  [32, 197, 768]       [32, 197, 768]       (7,087,872)          False\n",
              "│    └─LayerNorm (ln)                                        [32, 197, 768]       [32, 197, 768]       (1,536)              False\n",
              "├─Linear (heads)                                             [32, 768]            [32, 3]              2,307                True\n",
              "============================================================================================================================================\n",
              "Total params: 85,800,963\n",
              "Trainable params: 2,307\n",
              "Non-trainable params: 85,798,656\n",
              "Total mult-adds (G): 5.52\n",
              "============================================================================================================================================\n",
              "Input size (MB): 19.27\n",
              "Forward/backward pass size (MB): 3330.74\n",
              "Params size (MB): 229.20\n",
              "Estimated Total Size (MB): 3579.21\n",
              "============================================================================================================================================"
            ]
          },
          "metadata": {},
          "execution_count": 5
        }
      ],
      "source": [
        "!pip install torchinfo\n",
        "from torchinfo import summary\n",
        "\n",
        "# Print a summary using torchinfo (uncomment for actual output)\n",
        "summary(model=pretrained_vit,\n",
        "        input_size=(32, 3, 224, 224), # (batch_size, color_channels, height, width)\n",
        "        # col_names=[\"input_size\"], # uncomment for smaller output\n",
        "        col_names=[\"input_size\", \"output_size\", \"num_params\", \"trainable\"],\n",
        "        col_width=20,\n",
        "        row_settings=[\"var_names\"]\n",
        ")"
      ]
    },
    {
      "cell_type": "markdown",
      "id": "c73ec300",
      "metadata": {
        "id": "c73ec300"
      },
      "source": [
        "#### Notice how only the output layer is trainable, where as, all of the rest of the layers are untrainable (frozen)."
      ]
    },
    {
      "cell_type": "code",
      "execution_count": 6,
      "id": "ac8cc699",
      "metadata": {
        "id": "ac8cc699"
      },
      "outputs": [],
      "source": [
        "# Setup directory paths to train and test images\n",
        "train_dir = '/content/drive/MyDrive/Final_Cropped/Train'\n",
        "test_dir = '/content/drive/MyDrive/Final_Cropped/Test'"
      ]
    },
    {
      "cell_type": "code",
      "source": [
        "# from google.colab import drive\n",
        "# drive.mount('/content/drive')"
      ],
      "metadata": {
        "id": "jHZxIAGqcilu"
      },
      "id": "jHZxIAGqcilu",
      "execution_count": 7,
      "outputs": []
    },
    {
      "cell_type": "markdown",
      "id": "91175306",
      "metadata": {
        "id": "91175306"
      },
      "source": [
        "Remember, if you're going to use a pretrained model, it's generally important to ensure your own custom data is transformed/formatted in the same way the data the original model was trained on."
      ]
    },
    {
      "cell_type": "code",
      "execution_count": 8,
      "id": "05aa777b",
      "metadata": {
        "colab": {
          "base_uri": "https://localhost:8080/"
        },
        "id": "05aa777b",
        "outputId": "ea42ad20-429c-4d1c-812b-3854dd621917"
      },
      "outputs": [
        {
          "output_type": "stream",
          "name": "stdout",
          "text": [
            "ImageClassification(\n",
            "    crop_size=[224]\n",
            "    resize_size=[256]\n",
            "    mean=[0.485, 0.456, 0.406]\n",
            "    std=[0.229, 0.224, 0.225]\n",
            "    interpolation=InterpolationMode.BILINEAR\n",
            ")\n"
          ]
        }
      ],
      "source": [
        "# Get automatic transforms from pretrained ViT weights\n",
        "pretrained_vit_transforms = pretrained_vit_weights.transforms()\n",
        "print(pretrained_vit_transforms)"
      ]
    },
    {
      "cell_type": "markdown",
      "id": "088971e6",
      "metadata": {
        "id": "088971e6"
      },
      "source": [
        "## And now we've got transforms ready, we can turn our images into DataLoaders using the create_dataloaders()"
      ]
    },
    {
      "cell_type": "code",
      "execution_count": 9,
      "id": "5d49225b",
      "metadata": {
        "id": "5d49225b"
      },
      "outputs": [],
      "source": [
        "import os\n",
        "\n",
        "from torchvision import datasets, transforms\n",
        "from torch.utils.data import DataLoader\n",
        "\n",
        "NUM_WORKERS = os.cpu_count()\n",
        "\n",
        "def create_dataloaders(\n",
        "    train_dir: str,\n",
        "    test_dir: str,\n",
        "    transform: transforms.Compose,\n",
        "    batch_size: int,\n",
        "    num_workers: int=NUM_WORKERS\n",
        "):\n",
        "\n",
        "  # Use ImageFolder to create dataset(s)\n",
        "  train_data = datasets.ImageFolder(train_dir, transform=transform)\n",
        "  test_data = datasets.ImageFolder(test_dir, transform=transform)\n",
        "\n",
        "  # Get class names\n",
        "  class_names = train_data.classes\n",
        "\n",
        "  # Turn images into data loaders\n",
        "  train_dataloader = DataLoader(\n",
        "      train_data,\n",
        "      batch_size=batch_size,\n",
        "      shuffle=True,\n",
        "      num_workers=num_workers,\n",
        "      pin_memory=True,\n",
        "  )\n",
        "  test_dataloader = DataLoader(\n",
        "      test_data,\n",
        "      batch_size=batch_size,\n",
        "      shuffle=False,\n",
        "      num_workers=num_workers,\n",
        "      pin_memory=True,\n",
        "  )\n",
        "\n",
        "  return train_dataloader, test_dataloader, class_names"
      ]
    },
    {
      "cell_type": "code",
      "execution_count": 10,
      "id": "9037c8a5",
      "metadata": {
        "id": "9037c8a5"
      },
      "outputs": [],
      "source": [
        "# Setup dataloaders\n",
        "train_dataloader_pretrained, test_dataloader_pretrained, class_names = create_dataloaders(train_dir=train_dir,\n",
        "                                                                                                     test_dir=test_dir,\n",
        "                                                                                                     transform=pretrained_vit_transforms,\n",
        "                                                                                                     batch_size=32) # Could increase if we had more samples, such as here: https://arxiv.org/abs/2205.01580 (there are other improvements there too...)\n"
      ]
    },
    {
      "cell_type": "code",
      "execution_count": 11,
      "id": "10c5ba74",
      "metadata": {
        "colab": {
          "base_uri": "https://localhost:8080/",
          "height": 223,
          "referenced_widgets": [
            "59506d70f1544acdbc37038d62e61909",
            "04bf8a53592c44a597768edce5917128",
            "ab27019b562245419d010d2a77ab9767",
            "bb6de810bcb04e0f80041fbf656c6ecf",
            "0ad81c3493854e6da610540329c68036",
            "8a4e1a2421054535ba8670c8425d274a",
            "673b245614c44d8abccb07b5533543c2",
            "2bb27e96287246babde0384c754c7a15",
            "087a031e64614c2382cd6f15c814befc",
            "cb023391012b4b42b83d0a5ced1da925",
            "2b99b1360e4447b49d9b3374b6a3e167"
          ]
        },
        "id": "10c5ba74",
        "outputId": "c617be85-cd26-43aa-a210-3904a765750f"
      },
      "outputs": [
        {
          "output_type": "display_data",
          "data": {
            "text/plain": [
              "  0%|          | 0/10 [00:00<?, ?it/s]"
            ],
            "application/vnd.jupyter.widget-view+json": {
              "version_major": 2,
              "version_minor": 0,
              "model_id": "59506d70f1544acdbc37038d62e61909"
            }
          },
          "metadata": {}
        },
        {
          "output_type": "stream",
          "name": "stdout",
          "text": [
            "Epoch: 1 | train_loss: 0.6377 | train_acc: 0.7538 | test_loss: 0.3652 | test_acc: 0.9625\n",
            "Epoch: 2 | train_loss: 0.2836 | train_acc: 0.9210 | test_loss: 0.2768 | test_acc: 0.9403\n",
            "Epoch: 3 | train_loss: 0.2047 | train_acc: 0.9513 | test_loss: 0.2340 | test_acc: 0.9528\n",
            "Epoch: 4 | train_loss: 0.1701 | train_acc: 0.9551 | test_loss: 0.2166 | test_acc: 0.9243\n",
            "Epoch: 5 | train_loss: 0.1385 | train_acc: 0.9706 | test_loss: 0.2093 | test_acc: 0.9243\n",
            "Epoch: 6 | train_loss: 0.1187 | train_acc: 0.9724 | test_loss: 0.1925 | test_acc: 0.9368\n",
            "Epoch: 7 | train_loss: 0.1029 | train_acc: 0.9789 | test_loss: 0.1853 | test_acc: 0.9306\n",
            "Epoch: 8 | train_loss: 0.0925 | train_acc: 0.9835 | test_loss: 0.1790 | test_acc: 0.9146\n",
            "Epoch: 9 | train_loss: 0.0789 | train_acc: 0.9917 | test_loss: 0.1742 | test_acc: 0.9146\n",
            "Epoch: 10 | train_loss: 0.0733 | train_acc: 0.9909 | test_loss: 0.1815 | test_acc: 0.9021\n"
          ]
        }
      ],
      "source": [
        "from going_modular.going_modular import engine\n",
        "\n",
        "# Create optimizer and loss function\n",
        "optimizer = torch.optim.Adam(params=pretrained_vit.parameters(),\n",
        "                             lr=1e-3)\n",
        "loss_fn = torch.nn.CrossEntropyLoss()\n",
        "\n",
        "# Train the classifier head of the pretrained ViT feature extractor model\n",
        "set_seeds()\n",
        "pretrained_vit_results = engine.train(model=pretrained_vit,\n",
        "                                      train_dataloader=train_dataloader_pretrained,\n",
        "                                      test_dataloader=test_dataloader_pretrained,\n",
        "                                      optimizer=optimizer,\n",
        "                                      loss_fn=loss_fn,\n",
        "                                      epochs=10,\n",
        "                                      device=device)"
      ]
    },
    {
      "cell_type": "code",
      "source": [
        "# From DataLoader (dynamic computation)\n",
        "train_size = sum(len(batch[1]) for batch in train_dataloader_pretrained)  # Assuming batch[1] is labels\n",
        "test_size = sum(len(batch[1]) for batch in test_dataloader_pretrained)\n",
        "\n",
        "print(f\"Total training samples: {train_size}\")\n",
        "print(f\"Total testing samples: {test_size}\")\n"
      ],
      "metadata": {
        "id": "K5HpTGxPl0fc",
        "outputId": "b48e4c3a-537f-4892-fec2-6b24659ead8b",
        "colab": {
          "base_uri": "https://localhost:8080/"
        }
      },
      "id": "K5HpTGxPl0fc",
      "execution_count": 12,
      "outputs": [
        {
          "output_type": "stream",
          "name": "stdout",
          "text": [
            "Total training samples: 1067\n",
            "Total testing samples: 137\n"
          ]
        }
      ]
    },
    {
      "cell_type": "markdown",
      "id": "945149b4",
      "metadata": {
        "id": "945149b4"
      },
      "source": [
        "pretrained ViT performed far better than our custom ViT model trained from scratch (in the same amount of time).\n"
      ]
    },
    {
      "cell_type": "code",
      "execution_count": 13,
      "id": "2aae16a8",
      "metadata": {
        "colab": {
          "base_uri": "https://localhost:8080/",
          "height": 641
        },
        "id": "2aae16a8",
        "outputId": "af430711-69bf-415d-d344-fdece682e4a3"
      },
      "outputs": [
        {
          "output_type": "display_data",
          "data": {
            "text/plain": [
              "<Figure size 1500x700 with 2 Axes>"
            ],
            "image/png": "[encoded data removed]"
          },
          "metadata": {}
        }
      ],
      "source": [
        "# Plot the loss curves\n",
        "from helper_functions import plot_loss_curves\n",
        "\n",
        "plot_loss_curves(pretrained_vit_results)"
      ]
    },
    {
      "cell_type": "code",
      "source": [
        "import torch\n",
        "from sklearn.metrics import confusion_matrix\n",
        "import matplotlib.pyplot as plt\n",
        "import seaborn as sns\n",
        "\n",
        "# Set model to evaluation mode\n",
        "pretrained_vit.eval()\n",
        "\n",
        "# Disable gradient calculations (inference only)\n",
        "all_preds = []\n",
        "all_labels = []\n",
        "\n",
        "with torch.no_grad():\n",
        "    for images, labels in test_dataloader_pretrained:\n",
        "        images, labels = images.to(device), labels.to(device)\n",
        "\n",
        "        # Forward pass: Get predictions\n",
        "        outputs = pretrained_vit(images)\n",
        "        _, predicted = torch.max(outputs, 1)\n",
        "\n",
        "        # Store predictions and true labels\n",
        "        all_preds.extend(predicted.cpu().numpy())\n",
        "        all_labels.extend(labels.cpu().numpy())\n",
        "\n",
        "# Create confusion matrix\n",
        "conf_matrix = confusion_matrix(all_labels, all_preds)\n",
        "\n",
        "# Plot confusion matrix using seaborn\n",
        "plt.figure(figsize=(8, 6))\n",
        "sns.heatmap(conf_matrix, annot=True, fmt='d', cmap='Blues', xticklabels=True, yticklabels=True)\n",
        "plt.xlabel('Predicted Label')\n",
        "plt.ylabel('True Label')\n",
        "plt.title('Confusion Matrix')\n",
        "plt.show()"
      ],
      "metadata": {
        "colab": {
          "base_uri": "https://localhost:8080/",
          "height": 564
        },
        "id": "t8GcfnGdHKu2",
        "outputId": "0f66419b-4602-4c04-d787-3bb82029599d"
      },
      "id": "t8GcfnGdHKu2",
      "execution_count": 14,
      "outputs": [
        {
          "output_type": "display_data",
          "data": {
            "text/plain": [
              "<Figure size 800x600 with 2 Axes>"
            ],
            "image/png": "[encoded data removed]"
          },
          "metadata": {}
        }
      ]
    },
    {
      "cell_type": "code",
      "source": [
        "# Set model to evaluation mode\n",
        "pretrained_vit.eval()\n",
        "\n",
        "# Disable gradient calculations (inference only)\n",
        "with torch.no_grad():\n",
        "    correct = 0\n",
        "    total = 0\n",
        "\n",
        "    for images, labels in test_dataloader_pretrained:\n",
        "        images, labels = images.to(device), labels.to(device)\n",
        "\n",
        "        # Forward pass: Get predictions\n",
        "        outputs = pretrained_vit(images)\n",
        "        _, predicted = torch.max(outputs, 1)\n",
        "\n",
        "        # Update total and correct counts\n",
        "        total += labels.size(0)\n",
        "        correct += (predicted == labels).sum().item()\n",
        "\n",
        "# Calculate accuracy\n",
        "accuracy = correct / total * 100\n",
        "print(f'Accuracy on the test dataset: {accuracy:.2f}%')\n"
      ],
      "metadata": {
        "colab": {
          "base_uri": "https://localhost:8080/"
        },
        "id": "7OHiXhX1HKzd",
        "outputId": "bc17d892-53c6-4f90-b216-9456286cedef"
      },
      "id": "7OHiXhX1HKzd",
      "execution_count": 15,
      "outputs": [
        {
          "output_type": "stream",
          "name": "stdout",
          "text": [
            "Accuracy on the test dataset: 94.16%\n"
          ]
        }
      ]
    },
    {
      "cell_type": "code",
      "source": [],
      "metadata": {
        "id": "n0LKLt4qHK2B"
      },
      "id": "n0LKLt4qHK2B",
      "execution_count": 15,
      "outputs": []
    },
    {
      "cell_type": "code",
      "source": [],
      "metadata": {
        "id": "sWMp45rjdDm_"
      },
      "id": "sWMp45rjdDm_",
      "execution_count": 15,
      "outputs": []
    },
    {
      "cell_type": "markdown",
      "source": [
        "# RESULTS"
      ],
      "metadata": {
        "id": "rUpMU7tndEG8"
      },
      "id": "rUpMU7tndEG8"
    },
    {
      "cell_type": "code",
      "source": [
        "import torch\n",
        "from sklearn.metrics import (confusion_matrix, precision_score, recall_score, f1_score,\n",
        "                             matthews_corrcoef, cohen_kappa_score)\n",
        "import matplotlib.pyplot as plt\n",
        "import seaborn as sns\n",
        "import numpy as np\n",
        "\n",
        "# Calculate confusion matrix\n",
        "conf_matrix = confusion_matrix(all_labels, all_preds)\n",
        "num_classes = conf_matrix.shape[0]\n",
        "\n",
        "# Initialize variables for overall metrics\n",
        "total_TP, total_FN, total_TN, total_FP = 0, 0, 0, 0\n",
        "\n",
        "# Extract TN, FP, FN, TP and calculate per-class metrics\n",
        "per_class_metrics = []\n",
        "for i in range(num_classes):\n",
        "    TP = conf_matrix[i, i]\n",
        "    FN = conf_matrix[i, :].sum() - TP\n",
        "    FP = conf_matrix[:, i].sum() - TP\n",
        "    TN = conf_matrix.sum() - (TP + FP + FN)\n",
        "\n",
        "    # Accumulate overall values\n",
        "    total_TP += TP\n",
        "    total_FN += FN\n",
        "    total_FP += FP\n",
        "    total_TN += TN\n",
        "\n",
        "    # Append per-class metrics\n",
        "    per_class_metrics.append({\n",
        "        'class': f'Class {i}',\n",
        "        'accuracy': (TP + TN) / (TP + TN + FP + FN),\n",
        "        'sensitivity': TP / (TP + FN) if (TP + FN) > 0 else 0,  # Avoid division by zero\n",
        "        'specificity': TN / (TN + FP) if (TN + FP) > 0 else 0,  # Avoid division by zero\n",
        "    })\n",
        "\n",
        "print(\"True Positives (TP):\", TP)\n",
        "print(\"False Negatives (FN):\", FN)\n",
        "print(\"False Positives (FP):\", FP)\n",
        "print(\"True Negatives (TN):\", TN)"
      ],
      "metadata": {
        "colab": {
          "base_uri": "https://localhost:8080/"
        },
        "id": "zb1hvSJidG2N",
        "outputId": "ae4e2f82-3ca6-41da-a52d-a310c99fad53"
      },
      "id": "zb1hvSJidG2N",
      "execution_count": 16,
      "outputs": [
        {
          "output_type": "stream",
          "name": "stdout",
          "text": [
            "True Positives (TP): 38\n",
            "False Negatives (FN): 6\n",
            "False Positives (FP): 1\n",
            "True Negatives (TN): 92\n"
          ]
        }
      ]
    },
    {
      "cell_type": "code",
      "source": [
        "accuracy = np.trace(conf_matrix) / conf_matrix.sum()\n",
        "sensitivity = total_TP / (total_TP + total_FN)\n",
        "specificity = total_TN / (total_TN + total_FP)\n",
        "\n",
        "# Calculate Metrics\n",
        "precision = precision_score(all_labels, all_preds, average=\"weighted\")\n",
        "f1 = f1_score(all_labels, all_preds, average=\"weighted\")\n",
        "mcc = matthews_corrcoef(all_labels, all_preds)\n",
        "kappa = cohen_kappa_score(all_labels, all_preds)\n",
        "\n",
        "# Print final overall values\n",
        "print(f\"Overall Accuracy: {accuracy * 100:.2f}%\")\n",
        "print(f\"Overall Sensitivity (Recall): {sensitivity * 100:.2f}%\")\n",
        "print(f\"Overall Specificity: {specificity * 100:.2f}%\")\n",
        "print(f\"F1 Score (Weighted): {f1 * 100:.2f}%\")\n",
        "print(f\"Precision (Weighted): {precision * 100:.2f}%\")\n",
        "print(f\"Matthews Correlation Coefficient: {mcc:.4f}\")\n",
        "print(f\"Cohen's Kappa: {kappa:.4f}\")\n",
        "\n",
        "# To Copy easily :>\n",
        "print(f\"{accuracy * 100:.2f}%\")\n",
        "print(f\"{sensitivity * 100:.2f}%\")\n",
        "print(f\"{specificity * 100:.2f}%\")\n",
        "print(f\"{f1 * 100:.2f}%\")\n",
        "print(f\"{precision * 100:.2f}%\")\n",
        "print(f\"{mcc:.4f}\")\n",
        "print(f\"{kappa:.4f}\")"
      ],
      "metadata": {
        "colab": {
          "base_uri": "https://localhost:8080/"
        },
        "id": "vmdMgLqFdG6o",
        "outputId": "8aa5253c-17dc-4438-87f7-19a74626fd21"
      },
      "id": "vmdMgLqFdG6o",
      "execution_count": 17,
      "outputs": [
        {
          "output_type": "stream",
          "name": "stdout",
          "text": [
            "Overall Accuracy: 94.16%\n",
            "Overall Sensitivity (Recall): 94.16%\n",
            "Overall Specificity: 97.08%\n",
            "F1 Score (Weighted): 94.11%\n",
            "Precision (Weighted): 94.39%\n",
            "Matthews Correlation Coefficient: 0.9138\n",
            "Cohen's Kappa: 0.9123\n",
            "94.16%\n",
            "94.16%\n",
            "97.08%\n",
            "94.11%\n",
            "94.39%\n",
            "0.9138\n",
            "0.9123\n"
          ]
        }
      ]
    },
    {
      "cell_type": "code",
      "source": [
        "# Plot confusion matrix\n",
        "plt.figure(figsize=(8, 6))\n",
        "sns.heatmap(conf_matrix, annot=True, fmt='d', cmap='Blues', xticklabels=True, yticklabels=True)\n",
        "plt.xlabel('Predicted Label')\n",
        "plt.ylabel('True Label')\n",
        "plt.title('Confusion Matrix')\n",
        "plt.show()"
      ],
      "metadata": {
        "colab": {
          "base_uri": "https://localhost:8080/",
          "height": 564
        },
        "id": "lG-I_FDedG-D",
        "outputId": "aedac4f0-5f73-424c-948a-c5d2c148b16a"
      },
      "id": "lG-I_FDedG-D",
      "execution_count": 18,
      "outputs": [
        {
          "output_type": "display_data",
          "data": {
            "text/plain": [
              "<Figure size 800x600 with 2 Axes>"
            ],
            "image/png": "[encoded data removed]"
          },
          "metadata": {}
        }
      ]
    },
    {
      "cell_type": "code",
      "source": [
        "# Plot Metrics\n",
        "metrics = [accuracy, sensitivity, specificity, precision, f1, mcc, kappa]\n",
        "metric_names = [\"Accuracy\", \"Sensitivity\", \"Specificity\", \"Precision\", \"F1 Score\", \"MCC\", \"Kappa\"]\n",
        "\n",
        "plt.figure(figsize=(10, 6))\n",
        "plt.barh(metric_names, metrics, color=\"skyblue\")\n",
        "plt.xlabel(\"Metric Value\")\n",
        "plt.title(\"Model Metrics\")\n",
        "plt.xlim(0, 1)  # Metrics are between 0 and 1\n",
        "plt.show()"
      ],
      "metadata": {
        "colab": {
          "base_uri": "https://localhost:8080/",
          "height": 564
        },
        "id": "370b7J52dHBx",
        "outputId": "38ac64ef-5c6d-41fe-ebf0-77a9d9fd1465"
      },
      "id": "370b7J52dHBx",
      "execution_count": 19,
      "outputs": [
        {
          "output_type": "display_data",
          "data": {
            "text/plain": [
              "<Figure size 1000x600 with 1 Axes>"
            ],
            "image/png": "[encoded data removed]"
          },
          "metadata": {}
        }
      ]
    },
    {
      "cell_type": "code",
      "source": [
        "epochs = range(1, len(pretrained_vit_results['train_loss']) + 1)"
      ],
      "metadata": {
        "id": "YWkyDZ6kdasT"
      },
      "id": "YWkyDZ6kdasT",
      "execution_count": 20,
      "outputs": []
    },
    {
      "cell_type": "code",
      "source": [
        "# Test Loss Curve\n",
        "plt.figure(figsize=(10, 6))\n",
        "plt.plot(epochs, pretrained_vit_results['test_loss'], label='Test Loss', marker='o')\n",
        "plt.plot(epochs, pretrained_vit_results['train_loss'], label='Training Loss', marker='x')\n",
        "plt.xlabel('Epochs')\n",
        "plt.ylabel('Loss')\n",
        "plt.title('Test and Training Loss Curve')\n",
        "plt.legend()\n",
        "plt.show()\n",
        "\n",
        "print(\"Test Loss:\", pretrained_vit_results['test_loss'][-1])\n",
        "print(\"Training Loss:\", pretrained_vit_results['train_loss'][-1])"
      ],
      "metadata": {
        "colab": {
          "base_uri": "https://localhost:8080/",
          "height": 599
        },
        "id": "diAxjK4Eddaf",
        "outputId": "2f1c3f7d-ec82-47db-fffe-40c1e7dc58b3"
      },
      "id": "diAxjK4Eddaf",
      "execution_count": 21,
      "outputs": [
        {
          "output_type": "display_data",
          "data": {
            "text/plain": [
              "<Figure size 1000x600 with 1 Axes>"
            ],
            "image/png": "[encoded data removed]"
          },
          "metadata": {}
        },
        {
          "output_type": "stream",
          "name": "stdout",
          "text": [
            "Test Loss: 0.18149236291646959\n",
            "Training Loss: 0.07328470730606247\n"
          ]
        }
      ]
    },
    {
      "cell_type": "code",
      "source": [
        "# Test Accuracy Curve\n",
        "plt.figure(figsize=(10, 6))\n",
        "plt.plot(epochs, pretrained_vit_results['test_acc'], label='Test Accuracy', marker='o')\n",
        "plt.plot(epochs, pretrained_vit_results['train_acc'], label='Training Accuracy', marker='x')\n",
        "plt.xlabel('Epochs')\n",
        "plt.ylabel('Accuracy')\n",
        "plt.title('Test and Training Accuracy Curve')\n",
        "plt.legend()\n",
        "plt.show()\n",
        "print(\"Test Accuracy:\", pretrained_vit_results['test_acc'][-1])\n",
        "print(\"Training Accuracy:\", pretrained_vit_results['train_acc'][-1])"
      ],
      "metadata": {
        "colab": {
          "base_uri": "https://localhost:8080/",
          "height": 599
        },
        "id": "UCgExt9jddc2",
        "outputId": "b1c239be-cdef-4576-fb10-2509dbb1aa55"
      },
      "id": "UCgExt9jddc2",
      "execution_count": 22,
      "outputs": [
        {
          "output_type": "display_data",
          "data": {
            "text/plain": [
              "<Figure size 1000x600 with 1 Axes>"
            ],
            "image/png": "[encoded data removed]"
          },
          "metadata": {}
        },
        {
          "output_type": "stream",
          "name": "stdout",
          "text": [
            "Test Accuracy: 0.9020833333333333\n",
            "Training Accuracy: 0.9908923796791443\n"
          ]
        }
      ]
    },
    {
      "cell_type": "markdown",
      "id": "79922fd1",
      "metadata": {
        "id": "79922fd1"
      },
      "source": [
        "## That's the power of transfer learning!\n",
        "\n",
        "We managed to get outstanding results with the same model architecture, except our custom implementation was trained from scratch (worse performance) and this feature extractor model has the power of pretrained weights from ImageNet behind it."
      ]
    },
    {
      "cell_type": "markdown",
      "id": "6ce4427b",
      "metadata": {
        "id": "6ce4427b"
      },
      "source": [
        "# Let's make Prediction:"
      ]
    },
    {
      "cell_type": "code",
      "execution_count": 23,
      "id": "fe89b4e9",
      "metadata": {
        "id": "fe89b4e9"
      },
      "outputs": [],
      "source": [
        "# import requests\n",
        "\n",
        "# # Import function to make predictions on images and plot them\n",
        "# from going_modular.going_modular.predictions import pred_and_plot_image\n",
        "\n",
        "# # Setup custom image path\n",
        "# custom_image_path = \"/content/normal.jpg\"\n",
        "\n",
        "# # Predict on custom image\n",
        "# pred_and_plot_image(model=pretrained_vit,\n",
        "#                     image_path=custom_image_path,\n",
        "#                     class_names=class_names)"
      ]
    },
    {
      "cell_type": "code",
      "execution_count": 24,
      "id": "5e7d64d0",
      "metadata": {
        "id": "5e7d64d0"
      },
      "outputs": [],
      "source": [
        "# # Import function to make predictions on images and plot them\n",
        "# from going_modular.going_modular.predictions import pred_and_plot_image\n",
        "\n",
        "# # Setup custom image path\n",
        "# custom_image_path = \"/content/normal_trick_1.jpg\"\n",
        "\n",
        "# # Predict on custom image\n",
        "# pred_and_plot_image(model=pretrained_vit,\n",
        "#                     image_path=custom_image_path,\n",
        "#                     class_names=class_names)"
      ]
    },
    {
      "cell_type": "code",
      "source": [],
      "metadata": {
        "id": "1rYAvGsghEHp"
      },
      "id": "1rYAvGsghEHp",
      "execution_count": 24,
      "outputs": []
    },
    {
      "cell_type": "code",
      "source": [],
      "metadata": {
        "id": "uo7u1P_KhEKT"
      },
      "id": "uo7u1P_KhEKT",
      "execution_count": 24,
      "outputs": []
    },
    {
      "cell_type": "code",
      "execution_count": 24,
      "id": "eb7d0f9e",
      "metadata": {
        "id": "eb7d0f9e"
      },
      "outputs": [],
      "source": []
    }
  ],
  "metadata": {
    "kernelspec": {
      "display_name": "Python 3",
      "name": "python3"
    },
    "language_info": {
      "codemirror_mode": {
        "name": "ipython",
        "version": 3
      },
      "file_extension": ".py",
      "mimetype": "text/x-python",
      "name": "python",
      "nbconvert_exporter": "python",
      "pygments_lexer": "ipython3",
      "version": "3.9.10"
    },
    "colab": {
      "provenance": [],
      "gpuType": "T4",
      "include_colab_link": true
    },
    "accelerator": "GPU",
    "widgets": {
      "application/vnd.jupyter.widget-state+json": {
        "59506d70f1544acdbc37038d62e61909": {
          "model_module": "@jupyter-widgets/controls",
          "model_name": "HBoxModel",
          "model_module_version": "1.5.0",
          "state": {
            "_dom_classes": [],
            "_model_module": "@jupyter-widgets/controls",
            "_model_module_version": "1.5.0",
            "_model_name": "HBoxModel",
            "_view_count": null,
            "_view_module": "@jupyter-widgets/controls",
            "_view_module_version": "1.5.0",
            "_view_name": "HBoxView",
            "box_style": "",
            "children": [
              "IPY_MODEL_04bf8a53592c44a597768edce5917128",
              "IPY_MODEL_ab27019b562245419d010d2a77ab9767",
              "IPY_MODEL_bb6de810bcb04e0f80041fbf656c6ecf"
            ],
            "layout": "IPY_MODEL_0ad81c3493854e6da610540329c68036"
          }
        },
        "04bf8a53592c44a597768edce5917128": {
          "model_module": "@jupyter-widgets/controls",
          "model_name": "HTMLModel",
          "model_module_version": "1.5.0",
          "state": {
            "_dom_classes": [],
            "_model_module": "@jupyter-widgets/controls",
            "_model_module_version": "1.5.0",
            "_model_name": "HTMLModel",
            "_view_count": null,
            "_view_module": "@jupyter-widgets/controls",
            "_view_module_version": "1.5.0",
            "_view_name": "HTMLView",
            "description": "",
            "description_tooltip": null,
            "layout": "IPY_MODEL_8a4e1a2421054535ba8670c8425d274a",
            "placeholder": "​",
            "style": "IPY_MODEL_673b245614c44d8abccb07b5533543c2",
            "value": "100%"
          }
        },
        "ab27019b562245419d010d2a77ab9767": {
          "model_module": "@jupyter-widgets/controls",
          "model_name": "FloatProgressModel",
          "model_module_version": "1.5.0",
          "state": {
            "_dom_classes": [],
            "_model_module": "@jupyter-widgets/controls",
            "_model_module_version": "1.5.0",
            "_model_name": "FloatProgressModel",
            "_view_count": null,
            "_view_module": "@jupyter-widgets/controls",
            "_view_module_version": "1.5.0",
            "_view_name": "ProgressView",
            "bar_style": "success",
            "description": "",
            "description_tooltip": null,
            "layout": "IPY_MODEL_2bb27e96287246babde0384c754c7a15",
            "max": 10,
            "min": 0,
            "orientation": "horizontal",
            "style": "IPY_MODEL_087a031e64614c2382cd6f15c814befc",
            "value": 10
          }
        },
        "bb6de810bcb04e0f80041fbf656c6ecf": {
          "model_module": "@jupyter-widgets/controls",
          "model_name": "HTMLModel",
          "model_module_version": "1.5.0",
          "state": {
            "_dom_classes": [],
            "_model_module": "@jupyter-widgets/controls",
            "_model_module_version": "1.5.0",
            "_model_name": "HTMLModel",
            "_view_count": null,
            "_view_module": "@jupyter-widgets/controls",
            "_view_module_version": "1.5.0",
            "_view_name": "HTMLView",
            "description": "",
            "description_tooltip": null,
            "layout": "IPY_MODEL_cb023391012b4b42b83d0a5ced1da925",
            "placeholder": "​",
            "style": "IPY_MODEL_2b99b1360e4447b49d9b3374b6a3e167",
            "value": " 10/10 [05:04&lt;00:00, 19.61s/it]"
          }
        },
        "0ad81c3493854e6da610540329c68036": {
          "model_module": "@jupyter-widgets/base",
          "model_name": "LayoutModel",
          "model_module_version": "1.2.0",
          "state": {
            "_model_module": "@jupyter-widgets/base",
            "_model_module_version": "1.2.0",
            "_model_name": "LayoutModel",
            "_view_count": null,
            "_view_module": "@jupyter-widgets/base",
            "_view_module_version": "1.2.0",
            "_view_name": "LayoutView",
            "align_content": null,
            "align_items": null,
            "align_self": null,
            "border": null,
            "bottom": null,
            "display": null,
            "flex": null,
            "flex_flow": null,
            "grid_area": null,
            "grid_auto_columns": null,
            "grid_auto_flow": null,
            "grid_auto_rows": null,
            "grid_column": null,
            "grid_gap": null,
            "grid_row": null,
            "grid_template_areas": null,
            "grid_template_columns": null,
            "grid_template_rows": null,
            "height": null,
            "justify_content": null,
            "justify_items": null,
            "left": null,
            "margin": null,
            "max_height": null,
            "max_width": null,
            "min_height": null,
            "min_width": null,
            "object_fit": null,
            "object_position": null,
            "order": null,
            "overflow": null,
            "overflow_x": null,
            "overflow_y": null,
            "padding": null,
            "right": null,
            "top": null,
            "visibility": null,
            "width": null
          }
        },
        "8a4e1a2421054535ba8670c8425d274a": {
          "model_module": "@jupyter-widgets/base",
          "model_name": "LayoutModel",
          "model_module_version": "1.2.0",
          "state": {
            "_model_module": "@jupyter-widgets/base",
            "_model_module_version": "1.2.0",
            "_model_name": "LayoutModel",
            "_view_count": null,
            "_view_module": "@jupyter-widgets/base",
            "_view_module_version": "1.2.0",
            "_view_name": "LayoutView",
            "align_content": null,
            "align_items": null,
            "align_self": null,
            "border": null,
            "bottom": null,
            "display": null,
            "flex": null,
            "flex_flow": null,
            "grid_area": null,
            "grid_auto_columns": null,
            "grid_auto_flow": null,
            "grid_auto_rows": null,
            "grid_column": null,
            "grid_gap": null,
            "grid_row": null,
            "grid_template_areas": null,
            "grid_template_columns": null,
            "grid_template_rows": null,
            "height": null,
            "justify_content": null,
            "justify_items": null,
            "left": null,
            "margin": null,
            "max_height": null,
            "max_width": null,
            "min_height": null,
            "min_width": null,
            "object_fit": null,
            "object_position": null,
            "order": null,
            "overflow": null,
            "overflow_x": null,
            "overflow_y": null,
            "padding": null,
            "right": null,
            "top": null,
            "visibility": null,
            "width": null
          }
        },
        "673b245614c44d8abccb07b5533543c2": {
          "model_module": "@jupyter-widgets/controls",
          "model_name": "DescriptionStyleModel",
          "model_module_version": "1.5.0",
          "state": {
            "_model_module": "@jupyter-widgets/controls",
            "_model_module_version": "1.5.0",
            "_model_name": "DescriptionStyleModel",
            "_view_count": null,
            "_view_module": "@jupyter-widgets/base",
            "_view_module_version": "1.2.0",
            "_view_name": "StyleView",
            "description_width": ""
          }
        },
        "2bb27e96287246babde0384c754c7a15": {
          "model_module": "@jupyter-widgets/base",
          "model_name": "LayoutModel",
          "model_module_version": "1.2.0",
          "state": {
            "_model_module": "@jupyter-widgets/base",
            "_model_module_version": "1.2.0",
            "_model_name": "LayoutModel",
            "_view_count": null,
            "_view_module": "@jupyter-widgets/base",
            "_view_module_version": "1.2.0",
            "_view_name": "LayoutView",
            "align_content": null,
            "align_items": null,
            "align_self": null,
            "border": null,
            "bottom": null,
            "display": null,
            "flex": null,
            "flex_flow": null,
            "grid_area": null,
            "grid_auto_columns": null,
            "grid_auto_flow": null,
            "grid_auto_rows": null,
            "grid_column": null,
            "grid_gap": null,
            "grid_row": null,
            "grid_template_areas": null,
            "grid_template_columns": null,
            "grid_template_rows": null,
            "height": null,
            "justify_content": null,
            "justify_items": null,
            "left": null,
            "margin": null,
            "max_height": null,
            "max_width": null,
            "min_height": null,
            "min_width": null,
            "object_fit": null,
            "object_position": null,
            "order": null,
            "overflow": null,
            "overflow_x": null,
            "overflow_y": null,
            "padding": null,
            "right": null,
            "top": null,
            "visibility": null,
            "width": null
          }
        },
        "087a031e64614c2382cd6f15c814befc": {
          "model_module": "@jupyter-widgets/controls",
          "model_name": "ProgressStyleModel",
          "model_module_version": "1.5.0",
          "state": {
            "_model_module": "@jupyter-widgets/controls",
            "_model_module_version": "1.5.0",
            "_model_name": "ProgressStyleModel",
            "_view_count": null,
            "_view_module": "@jupyter-widgets/base",
            "_view_module_version": "1.2.0",
            "_view_name": "StyleView",
            "bar_color": null,
            "description_width": ""
          }
        },
        "cb023391012b4b42b83d0a5ced1da925": {
          "model_module": "@jupyter-widgets/base",
          "model_name": "LayoutModel",
          "model_module_version": "1.2.0",
          "state": {
            "_model_module": "@jupyter-widgets/base",
            "_model_module_version": "1.2.0",
            "_model_name": "LayoutModel",
            "_view_count": null,
            "_view_module": "@jupyter-widgets/base",
            "_view_module_version": "1.2.0",
            "_view_name": "LayoutView",
            "align_content": null,
            "align_items": null,
            "align_self": null,
            "border": null,
            "bottom": null,
            "display": null,
            "flex": null,
            "flex_flow": null,
            "grid_area": null,
            "grid_auto_columns": null,
            "grid_auto_flow": null,
            "grid_auto_rows": null,
            "grid_column": null,
            "grid_gap": null,
            "grid_row": null,
            "grid_template_areas": null,
            "grid_template_columns": null,
            "grid_template_rows": null,
            "height": null,
            "justify_content": null,
            "justify_items": null,
            "left": null,
            "margin": null,
            "max_height": null,
            "max_width": null,
            "min_height": null,
            "min_width": null,
            "object_fit": null,
            "object_position": null,
            "order": null,
            "overflow": null,
            "overflow_x": null,
            "overflow_y": null,
            "padding": null,
            "right": null,
            "top": null,
            "visibility": null,
            "width": null
          }
        },
        "2b99b1360e4447b49d9b3374b6a3e167": {
          "model_module": "@jupyter-widgets/controls",
          "model_name": "DescriptionStyleModel",
          "model_module_version": "1.5.0",
          "state": {
            "_model_module": "@jupyter-widgets/controls",
            "_model_module_version": "1.5.0",
            "_model_name": "DescriptionStyleModel",
            "_view_count": null,
            "_view_module": "@jupyter-widgets/base",
            "_view_module_version": "1.2.0",
            "_view_name": "StyleView",
            "description_width": ""
          }
        }
      }
    }
  },
  "nbformat": 4,
  "nbformat_minor": 5
}